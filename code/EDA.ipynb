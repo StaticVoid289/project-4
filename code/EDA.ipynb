{
 "cells": [
  {
   "cell_type": "code",
   "execution_count": 1,
   "id": "61ab126f",
   "metadata": {},
   "outputs": [
    {
     "name": "stdout",
     "output_type": "stream",
     "text": [
      "hello, world!\n"
     ]
    }
   ],
   "source": [
    "print('hello, world!')"
   ]
  },
  {
   "cell_type": "code",
   "execution_count": null,
   "id": "52881e17",
   "metadata": {},
   "outputs": [],
   "source": []
  },
  {
   "cell_type": "markdown",
   "id": "49456e2d-9122-43c1-aad5-b1529f04fa22",
   "metadata": {},
   "source": [
    "#### Problem Statement: With resources for mental health being so limited in the US, and culture suppressing those who need help from seeking it, it would be immensely valuable to provide a model which could predict whether an individual was suffering from various mental health issues using sentiment analysis as a backbone for classification. We'll use Recall/Sensitivity as our main metric since False Positives would suggest people get help when they may not necessarily need (but everyone needs it) vs a false negative that could minimize serious health issues. We'll set our target at least 95% recall before production-ready."
   ]
  },
  {
   "cell_type": "code",
   "execution_count": null,
   "id": "dfd1fd7b-e986-46e6-a888-7ba56b75eee7",
   "metadata": {},
   "outputs": [],
   "source": []
  },
  {
   "cell_type": "code",
   "execution_count": 73,
   "id": "1643cd97-c622-4a46-89dd-36473c0dbdfc",
   "metadata": {
    "scrolled": true
   },
   "outputs": [],
   "source": [
    "import pandas as pd\n",
    "import numpy as np\n",
    "import random\n",
    "\n",
    "import re\n",
    "\n",
    "import spacy\n",
    "\n",
    "import nltk\n",
    "from nltk.stem import WordNetLemmatizer\n",
    "from nltk.tokenize import word_tokenize\n",
    "from sklearn.feature_extraction.text import CountVectorizer\n",
    "\n",
    "from sklearn.pipeline import Pipeline\n",
    "from sklearn.model_selection import GridSearchCV\n",
    "from sklearn.linear_model import LogisticRegression\n",
    "from sklearn.model_selection import train_test_split, cross_val_score\n",
    "from sklearn.metrics import confusion_matrix\n"
   ]
  },
  {
   "cell_type": "markdown",
   "id": "08542047-140b-4447-8181-434a145dac1f",
   "metadata": {},
   "source": [
    "### Setting the random seed"
   ]
  },
  {
   "cell_type": "code",
   "execution_count": 40,
   "id": "5d526789-a5cd-4f83-bcfe-aaa7c80039b4",
   "metadata": {},
   "outputs": [],
   "source": [
    "random.seed(42)"
   ]
  },
  {
   "cell_type": "code",
   "execution_count": 4,
   "id": "4eed1fbb-19f9-4031-a978-b8efa79fd874",
   "metadata": {
    "editable": true,
    "slideshow": {
     "slide_type": ""
    },
    "tags": []
   },
   "outputs": [],
   "source": [
    "df = pd.read_csv('../data/sentiment.csv').drop(columns=['Unnamed: 0'])"
   ]
  },
  {
   "cell_type": "code",
   "execution_count": 5,
   "id": "c7e89f3c-6a23-4424-80e4-07a0c7f3f68b",
   "metadata": {
    "scrolled": true
   },
   "outputs": [
    {
     "data": {
      "text/html": [
       "<div>\n",
       "<style scoped>\n",
       "    .dataframe tbody tr th:only-of-type {\n",
       "        vertical-align: middle;\n",
       "    }\n",
       "\n",
       "    .dataframe tbody tr th {\n",
       "        vertical-align: top;\n",
       "    }\n",
       "\n",
       "    .dataframe thead th {\n",
       "        text-align: right;\n",
       "    }\n",
       "</style>\n",
       "<table border=\"1\" class=\"dataframe\">\n",
       "  <thead>\n",
       "    <tr style=\"text-align: right;\">\n",
       "      <th></th>\n",
       "      <th>statement</th>\n",
       "      <th>status</th>\n",
       "    </tr>\n",
       "  </thead>\n",
       "  <tbody>\n",
       "    <tr>\n",
       "      <th>0</th>\n",
       "      <td>oh my gosh</td>\n",
       "      <td>Anxiety</td>\n",
       "    </tr>\n",
       "    <tr>\n",
       "      <th>1</th>\n",
       "      <td>trouble sleeping, confused mind, restless hear...</td>\n",
       "      <td>Anxiety</td>\n",
       "    </tr>\n",
       "    <tr>\n",
       "      <th>2</th>\n",
       "      <td>All wrong, back off dear, forward doubt. Stay ...</td>\n",
       "      <td>Anxiety</td>\n",
       "    </tr>\n",
       "    <tr>\n",
       "      <th>3</th>\n",
       "      <td>I've shifted my focus to something else but I'...</td>\n",
       "      <td>Anxiety</td>\n",
       "    </tr>\n",
       "    <tr>\n",
       "      <th>4</th>\n",
       "      <td>I'm restless and restless, it's been a month n...</td>\n",
       "      <td>Anxiety</td>\n",
       "    </tr>\n",
       "    <tr>\n",
       "      <th>5</th>\n",
       "      <td>every break, you must be nervous, like somethi...</td>\n",
       "      <td>Anxiety</td>\n",
       "    </tr>\n",
       "    <tr>\n",
       "      <th>6</th>\n",
       "      <td>I feel scared, anxious, what can I do? And may...</td>\n",
       "      <td>Anxiety</td>\n",
       "    </tr>\n",
       "    <tr>\n",
       "      <th>7</th>\n",
       "      <td>Have you ever felt nervous but didn't know why?</td>\n",
       "      <td>Anxiety</td>\n",
       "    </tr>\n",
       "    <tr>\n",
       "      <th>8</th>\n",
       "      <td>I haven't slept well for 2 days, it's like I'm...</td>\n",
       "      <td>Anxiety</td>\n",
       "    </tr>\n",
       "    <tr>\n",
       "      <th>9</th>\n",
       "      <td>I'm really worried, I want to cry.</td>\n",
       "      <td>Anxiety</td>\n",
       "    </tr>\n",
       "    <tr>\n",
       "      <th>10</th>\n",
       "      <td>always restless every night, even though I don...</td>\n",
       "      <td>Anxiety</td>\n",
       "    </tr>\n",
       "    <tr>\n",
       "      <th>11</th>\n",
       "      <td>I'm confused, I'm not feeling good lately. Eve...</td>\n",
       "      <td>Anxiety</td>\n",
       "    </tr>\n",
       "    <tr>\n",
       "      <th>12</th>\n",
       "      <td>sometimes what is needed when there is a probl...</td>\n",
       "      <td>Anxiety</td>\n",
       "    </tr>\n",
       "    <tr>\n",
       "      <th>13</th>\n",
       "      <td>Because this worry is you.</td>\n",
       "      <td>Anxiety</td>\n",
       "    </tr>\n",
       "    <tr>\n",
       "      <th>14</th>\n",
       "      <td>Sometimes it's your own thoughts that make you...</td>\n",
       "      <td>Anxiety</td>\n",
       "    </tr>\n",
       "    <tr>\n",
       "      <th>15</th>\n",
       "      <td>Every time I wake up, I'm definitely nervous a...</td>\n",
       "      <td>Anxiety</td>\n",
       "    </tr>\n",
       "    <tr>\n",
       "      <th>16</th>\n",
       "      <td>I can only hope, even though I'm worried if it...</td>\n",
       "      <td>Anxiety</td>\n",
       "    </tr>\n",
       "    <tr>\n",
       "      <th>17</th>\n",
       "      <td>restive = restless, restless</td>\n",
       "      <td>Anxiety</td>\n",
       "    </tr>\n",
       "    <tr>\n",
       "      <th>18</th>\n",
       "      <td>\"No regrets or grudges/angry at things that ha...</td>\n",
       "      <td>Anxiety</td>\n",
       "    </tr>\n",
       "    <tr>\n",
       "      <th>19</th>\n",
       "      <td>If the guy is sick, the girl actually feels si...</td>\n",
       "      <td>Anxiety</td>\n",
       "    </tr>\n",
       "    <tr>\n",
       "      <th>20</th>\n",
       "      <td>I've been the most anxious person before I bec...</td>\n",
       "      <td>Anxiety</td>\n",
       "    </tr>\n",
       "    <tr>\n",
       "      <th>21</th>\n",
       "      <td>Successfully online at 9am. Even sleeping in a...</td>\n",
       "      <td>Anxiety</td>\n",
       "    </tr>\n",
       "    <tr>\n",
       "      <th>22</th>\n",
       "      <td>Can't sleep. Just restless by nature</td>\n",
       "      <td>Anxiety</td>\n",
       "    </tr>\n",
       "    <tr>\n",
       "      <th>23</th>\n",
       "      <td>Already worried about picking up the phone</td>\n",
       "      <td>Anxiety</td>\n",
       "    </tr>\n",
       "    <tr>\n",
       "      <th>24</th>\n",
       "      <td>a little restless. a little restless. always f...</td>\n",
       "      <td>Anxiety</td>\n",
       "    </tr>\n",
       "    <tr>\n",
       "      <th>25</th>\n",
       "      <td>I've been so restless since this morning</td>\n",
       "      <td>Anxiety</td>\n",
       "    </tr>\n",
       "    <tr>\n",
       "      <th>26</th>\n",
       "      <td>it makes you feel restless</td>\n",
       "      <td>Anxiety</td>\n",
       "    </tr>\n",
       "    <tr>\n",
       "      <th>27</th>\n",
       "      <td>Sleepy but restless when you sleep</td>\n",
       "      <td>Anxiety</td>\n",
       "    </tr>\n",
       "    <tr>\n",
       "      <th>28</th>\n",
       "      <td>Why is this cave... I'm already in a bad mood ...</td>\n",
       "      <td>Anxiety</td>\n",
       "    </tr>\n",
       "    <tr>\n",
       "      <th>29</th>\n",
       "      <td>He is very busy, He is restless, geez, what's ...</td>\n",
       "      <td>Anxiety</td>\n",
       "    </tr>\n",
       "    <tr>\n",
       "      <th>30</th>\n",
       "      <td>I'm broken and fragile, I'm hurt, I can't stan...</td>\n",
       "      <td>Anxiety</td>\n",
       "    </tr>\n",
       "    <tr>\n",
       "      <th>31</th>\n",
       "      <td># Suggest a song that makes you calm, don't kn...</td>\n",
       "      <td>Anxiety</td>\n",
       "    </tr>\n",
       "    <tr>\n",
       "      <th>32</th>\n",
       "      <td>Terooosss nervous huuuu</td>\n",
       "      <td>Anxiety</td>\n",
       "    </tr>\n",
       "    <tr>\n",
       "      <th>33</th>\n",
       "      <td>why today's heart doesn't feel good..jealous?....</td>\n",
       "      <td>Anxiety</td>\n",
       "    </tr>\n",
       "    <tr>\n",
       "      <th>34</th>\n",
       "      <td>It's a habit from elementary school if I think...</td>\n",
       "      <td>Anxiety</td>\n",
       "    </tr>\n",
       "    <tr>\n",
       "      <th>35</th>\n",
       "      <td>Since yesterday yesterday, I have not been in ...</td>\n",
       "      <td>Anxiety</td>\n",
       "    </tr>\n",
       "    <tr>\n",
       "      <th>36</th>\n",
       "      <td>Tonight he continues to chatter about money, I...</td>\n",
       "      <td>Anxiety</td>\n",
       "    </tr>\n",
       "    <tr>\n",
       "      <th>37</th>\n",
       "      <td>Feeling so restless lately.</td>\n",
       "      <td>Anxiety</td>\n",
       "    </tr>\n",
       "    <tr>\n",
       "      <th>38</th>\n",
       "      <td>Oh god I'm restless</td>\n",
       "      <td>Anxiety</td>\n",
       "    </tr>\n",
       "    <tr>\n",
       "      <th>39</th>\n",
       "      <td>but my heart is still restless even though my ...</td>\n",
       "      <td>Anxiety</td>\n",
       "    </tr>\n",
       "    <tr>\n",
       "      <th>40</th>\n",
       "      <td>waiting for uncertainty, please be anxious</td>\n",
       "      <td>Anxiety</td>\n",
       "    </tr>\n",
       "    <tr>\n",
       "      <th>41</th>\n",
       "      <td>been the most anxious person, before becoming ...</td>\n",
       "      <td>Anxiety</td>\n",
       "    </tr>\n",
       "    <tr>\n",
       "      <th>42</th>\n",
       "      <td>Did you ever read it when you read it to RL, I...</td>\n",
       "      <td>Anxiety</td>\n",
       "    </tr>\n",
       "    <tr>\n",
       "      <th>43</th>\n",
       "      <td>Hi, I want to tell you... Lately I've been fee...</td>\n",
       "      <td>Anxiety</td>\n",
       "    </tr>\n",
       "    <tr>\n",
       "      <th>44</th>\n",
       "      <td>I've been feeling restless for the past few da...</td>\n",
       "      <td>Anxiety</td>\n",
       "    </tr>\n",
       "    <tr>\n",
       "      <th>45</th>\n",
       "      <td>Oh no I'm restless. The time will come. I walk...</td>\n",
       "      <td>Anxiety</td>\n",
       "    </tr>\n",
       "    <tr>\n",
       "      <th>46</th>\n",
       "      <td>Controlling anxiety is not as easy as it sounds.</td>\n",
       "      <td>Anxiety</td>\n",
       "    </tr>\n",
       "    <tr>\n",
       "      <th>47</th>\n",
       "      <td>Since the pandemic, I haven't opened my laptop...</td>\n",
       "      <td>Anxiety</td>\n",
       "    </tr>\n",
       "    <tr>\n",
       "      <th>48</th>\n",
       "      <td>People who are restless and afraid can be seen...</td>\n",
       "      <td>Anxiety</td>\n",
       "    </tr>\n",
       "    <tr>\n",
       "      <th>49</th>\n",
       "      <td>I don't know if my mind breaks down, but I don...</td>\n",
       "      <td>Anxiety</td>\n",
       "    </tr>\n",
       "  </tbody>\n",
       "</table>\n",
       "</div>"
      ],
      "text/plain": [
       "                                            statement   status\n",
       "0                                          oh my gosh  Anxiety\n",
       "1   trouble sleeping, confused mind, restless hear...  Anxiety\n",
       "2   All wrong, back off dear, forward doubt. Stay ...  Anxiety\n",
       "3   I've shifted my focus to something else but I'...  Anxiety\n",
       "4   I'm restless and restless, it's been a month n...  Anxiety\n",
       "5   every break, you must be nervous, like somethi...  Anxiety\n",
       "6   I feel scared, anxious, what can I do? And may...  Anxiety\n",
       "7     Have you ever felt nervous but didn't know why?  Anxiety\n",
       "8   I haven't slept well for 2 days, it's like I'm...  Anxiety\n",
       "9                  I'm really worried, I want to cry.  Anxiety\n",
       "10  always restless every night, even though I don...  Anxiety\n",
       "11  I'm confused, I'm not feeling good lately. Eve...  Anxiety\n",
       "12  sometimes what is needed when there is a probl...  Anxiety\n",
       "13                         Because this worry is you.  Anxiety\n",
       "14  Sometimes it's your own thoughts that make you...  Anxiety\n",
       "15  Every time I wake up, I'm definitely nervous a...  Anxiety\n",
       "16  I can only hope, even though I'm worried if it...  Anxiety\n",
       "17                       restive = restless, restless  Anxiety\n",
       "18  \"No regrets or grudges/angry at things that ha...  Anxiety\n",
       "19  If the guy is sick, the girl actually feels si...  Anxiety\n",
       "20  I've been the most anxious person before I bec...  Anxiety\n",
       "21  Successfully online at 9am. Even sleeping in a...  Anxiety\n",
       "22               Can't sleep. Just restless by nature  Anxiety\n",
       "23         Already worried about picking up the phone  Anxiety\n",
       "24  a little restless. a little restless. always f...  Anxiety\n",
       "25           I've been so restless since this morning  Anxiety\n",
       "26                         it makes you feel restless  Anxiety\n",
       "27                 Sleepy but restless when you sleep  Anxiety\n",
       "28  Why is this cave... I'm already in a bad mood ...  Anxiety\n",
       "29  He is very busy, He is restless, geez, what's ...  Anxiety\n",
       "30  I'm broken and fragile, I'm hurt, I can't stan...  Anxiety\n",
       "31  # Suggest a song that makes you calm, don't kn...  Anxiety\n",
       "32                            Terooosss nervous huuuu  Anxiety\n",
       "33  why today's heart doesn't feel good..jealous?....  Anxiety\n",
       "34  It's a habit from elementary school if I think...  Anxiety\n",
       "35  Since yesterday yesterday, I have not been in ...  Anxiety\n",
       "36  Tonight he continues to chatter about money, I...  Anxiety\n",
       "37                        Feeling so restless lately.  Anxiety\n",
       "38                                Oh god I'm restless  Anxiety\n",
       "39  but my heart is still restless even though my ...  Anxiety\n",
       "40         waiting for uncertainty, please be anxious  Anxiety\n",
       "41  been the most anxious person, before becoming ...  Anxiety\n",
       "42  Did you ever read it when you read it to RL, I...  Anxiety\n",
       "43  Hi, I want to tell you... Lately I've been fee...  Anxiety\n",
       "44  I've been feeling restless for the past few da...  Anxiety\n",
       "45  Oh no I'm restless. The time will come. I walk...  Anxiety\n",
       "46   Controlling anxiety is not as easy as it sounds.  Anxiety\n",
       "47  Since the pandemic, I haven't opened my laptop...  Anxiety\n",
       "48  People who are restless and afraid can be seen...  Anxiety\n",
       "49  I don't know if my mind breaks down, but I don...  Anxiety"
      ]
     },
     "execution_count": 5,
     "metadata": {},
     "output_type": "execute_result"
    }
   ],
   "source": [
    "df.head(50)"
   ]
  },
  {
   "cell_type": "code",
   "execution_count": 41,
   "id": "b9649891-10d5-48a8-97ca-c6eac098c3ad",
   "metadata": {},
   "outputs": [],
   "source": [
    "df2 = pd.read_csv('../data/sentiment.csv').drop(columns=['Unnamed: 0'])"
   ]
  },
  {
   "cell_type": "code",
   "execution_count": 42,
   "id": "c518e261-c44d-43c8-a44e-22474e720605",
   "metadata": {},
   "outputs": [
    {
     "data": {
      "text/html": [
       "<div>\n",
       "<style scoped>\n",
       "    .dataframe tbody tr th:only-of-type {\n",
       "        vertical-align: middle;\n",
       "    }\n",
       "\n",
       "    .dataframe tbody tr th {\n",
       "        vertical-align: top;\n",
       "    }\n",
       "\n",
       "    .dataframe thead th {\n",
       "        text-align: right;\n",
       "    }\n",
       "</style>\n",
       "<table border=\"1\" class=\"dataframe\">\n",
       "  <thead>\n",
       "    <tr style=\"text-align: right;\">\n",
       "      <th></th>\n",
       "      <th>statement</th>\n",
       "      <th>status</th>\n",
       "    </tr>\n",
       "  </thead>\n",
       "  <tbody>\n",
       "    <tr>\n",
       "      <th>0</th>\n",
       "      <td>oh my gosh</td>\n",
       "      <td>Anxiety</td>\n",
       "    </tr>\n",
       "    <tr>\n",
       "      <th>1</th>\n",
       "      <td>trouble sleeping, confused mind, restless hear...</td>\n",
       "      <td>Anxiety</td>\n",
       "    </tr>\n",
       "    <tr>\n",
       "      <th>2</th>\n",
       "      <td>All wrong, back off dear, forward doubt. Stay ...</td>\n",
       "      <td>Anxiety</td>\n",
       "    </tr>\n",
       "    <tr>\n",
       "      <th>3</th>\n",
       "      <td>I've shifted my focus to something else but I'...</td>\n",
       "      <td>Anxiety</td>\n",
       "    </tr>\n",
       "    <tr>\n",
       "      <th>4</th>\n",
       "      <td>I'm restless and restless, it's been a month n...</td>\n",
       "      <td>Anxiety</td>\n",
       "    </tr>\n",
       "  </tbody>\n",
       "</table>\n",
       "</div>"
      ],
      "text/plain": [
       "                                           statement   status\n",
       "0                                         oh my gosh  Anxiety\n",
       "1  trouble sleeping, confused mind, restless hear...  Anxiety\n",
       "2  All wrong, back off dear, forward doubt. Stay ...  Anxiety\n",
       "3  I've shifted my focus to something else but I'...  Anxiety\n",
       "4  I'm restless and restless, it's been a month n...  Anxiety"
      ]
     },
     "execution_count": 42,
     "metadata": {},
     "output_type": "execute_result"
    }
   ],
   "source": [
    "df2.head()"
   ]
  },
  {
   "cell_type": "code",
   "execution_count": 6,
   "id": "524618d4-2a8a-45c5-84c2-1d19aad351b5",
   "metadata": {},
   "outputs": [
    {
     "data": {
      "text/plain": [
       "(53043, 2)"
      ]
     },
     "execution_count": 6,
     "metadata": {},
     "output_type": "execute_result"
    }
   ],
   "source": [
    "df.shape\n"
   ]
  },
  {
   "cell_type": "code",
   "execution_count": 7,
   "id": "5cd95d0a-401a-4ef8-baf8-80c4f9080cb8",
   "metadata": {},
   "outputs": [
    {
     "data": {
      "text/plain": [
       "status\n",
       "Normal                  16351\n",
       "Depression              15404\n",
       "Suicidal                10653\n",
       "Anxiety                  3888\n",
       "Bipolar                  2877\n",
       "Stress                   2669\n",
       "Personality disorder     1201\n",
       "Name: count, dtype: int64"
      ]
     },
     "execution_count": 7,
     "metadata": {},
     "output_type": "execute_result"
    }
   ],
   "source": [
    "df['status'].value_counts()"
   ]
  },
  {
   "cell_type": "markdown",
   "id": "9de28776-4571-4158-b5ca-47a01c350aee",
   "metadata": {},
   "source": [
    "#### I am following along with 'Sentiment Analysis using NLP (spacey/ ntlk)' on Spencer Pao github.\n",
    "#### https://github.com/SpencerPao/Natural-Language-Processing/blob/main/Sentiment_Analysis/Recommendation.ipynb"
   ]
  },
  {
   "cell_type": "markdown",
   "id": "76856061-633e-42b4-bbe0-895e68dd3374",
   "metadata": {},
   "source": [
    "### Tokenization\n",
    "#### Removing special characters with regex."
   ]
  },
  {
   "cell_type": "code",
   "execution_count": 14,
   "id": "076fc918-7475-4a2e-a6f7-715d25df350b",
   "metadata": {},
   "outputs": [],
   "source": [
    "pattern = r'[^A-Za-z ]'\n",
    "regex = re.compile(pattern)\n",
    "df['tokens'] = df['statement'].head(50).apply(lambda x: regex.sub('', x))"
   ]
  },
  {
   "cell_type": "markdown",
   "id": "f0605e5a-c95b-40e8-bc10-cd84a2635ddd",
   "metadata": {},
   "source": [
    "#### Using spacy en_core_web_sm to create tokens."
   ]
  },
  {
   "cell_type": "code",
   "execution_count": 17,
   "id": "236ff01f-19d0-4d66-a749-60b027f395db",
   "metadata": {},
   "outputs": [],
   "source": [
    "nlp = spacy.load(\"en_core_web_sm\")\n",
    "df['tokens'] = df['statement'].apply(lambda x: [token.text for token in nlp(str(x))])"
   ]
  },
  {
   "cell_type": "code",
   "execution_count": 18,
   "id": "07050d32-ffb5-4760-a2e0-81af38fb511b",
   "metadata": {},
   "outputs": [
    {
     "data": {
      "text/plain": [
       "0                                       [oh, my, gosh]\n",
       "1    [trouble, sleeping, ,, confused, mind, ,, rest...\n",
       "2    [All, wrong, ,, back, off, dear, ,, forward, d...\n",
       "3    [I, 've, shifted, my, focus, to, something, el...\n",
       "4    [I, 'm, restless, and, restless, ,, it, 's, be...\n",
       "Name: tokens, dtype: object"
      ]
     },
     "execution_count": 18,
     "metadata": {},
     "output_type": "execute_result"
    }
   ],
   "source": [
    "df['tokens'].head()"
   ]
  },
  {
   "cell_type": "code",
   "execution_count": 19,
   "id": "e3f62794-b8f6-4413-ba86-ada156b0c8be",
   "metadata": {},
   "outputs": [
    {
     "data": {
      "text/html": [
       "<div>\n",
       "<style scoped>\n",
       "    .dataframe tbody tr th:only-of-type {\n",
       "        vertical-align: middle;\n",
       "    }\n",
       "\n",
       "    .dataframe tbody tr th {\n",
       "        vertical-align: top;\n",
       "    }\n",
       "\n",
       "    .dataframe thead th {\n",
       "        text-align: right;\n",
       "    }\n",
       "</style>\n",
       "<table border=\"1\" class=\"dataframe\">\n",
       "  <thead>\n",
       "    <tr style=\"text-align: right;\">\n",
       "      <th></th>\n",
       "      <th>statement</th>\n",
       "      <th>status</th>\n",
       "      <th>Tokens</th>\n",
       "      <th>tokens</th>\n",
       "    </tr>\n",
       "  </thead>\n",
       "  <tbody>\n",
       "    <tr>\n",
       "      <th>0</th>\n",
       "      <td>oh my gosh</td>\n",
       "      <td>Anxiety</td>\n",
       "      <td>[oh, my, gosh]</td>\n",
       "      <td>[oh, my, gosh]</td>\n",
       "    </tr>\n",
       "    <tr>\n",
       "      <th>1</th>\n",
       "      <td>trouble sleeping, confused mind, restless hear...</td>\n",
       "      <td>Anxiety</td>\n",
       "      <td>[trouble, sleeping, ,, confused, mind, ,, rest...</td>\n",
       "      <td>[trouble, sleeping, ,, confused, mind, ,, rest...</td>\n",
       "    </tr>\n",
       "    <tr>\n",
       "      <th>2</th>\n",
       "      <td>All wrong, back off dear, forward doubt. Stay ...</td>\n",
       "      <td>Anxiety</td>\n",
       "      <td>[All, wrong, ,, back, off, dear, ,, forward, d...</td>\n",
       "      <td>[All, wrong, ,, back, off, dear, ,, forward, d...</td>\n",
       "    </tr>\n",
       "    <tr>\n",
       "      <th>3</th>\n",
       "      <td>I've shifted my focus to something else but I'...</td>\n",
       "      <td>Anxiety</td>\n",
       "      <td>[I, 've, shifted, my, focus, to, something, el...</td>\n",
       "      <td>[I, 've, shifted, my, focus, to, something, el...</td>\n",
       "    </tr>\n",
       "    <tr>\n",
       "      <th>4</th>\n",
       "      <td>I'm restless and restless, it's been a month n...</td>\n",
       "      <td>Anxiety</td>\n",
       "      <td>[I, 'm, restless, and, restless, ,, it, 's, be...</td>\n",
       "      <td>[I, 'm, restless, and, restless, ,, it, 's, be...</td>\n",
       "    </tr>\n",
       "  </tbody>\n",
       "</table>\n",
       "</div>"
      ],
      "text/plain": [
       "                                           statement   status  \\\n",
       "0                                         oh my gosh  Anxiety   \n",
       "1  trouble sleeping, confused mind, restless hear...  Anxiety   \n",
       "2  All wrong, back off dear, forward doubt. Stay ...  Anxiety   \n",
       "3  I've shifted my focus to something else but I'...  Anxiety   \n",
       "4  I'm restless and restless, it's been a month n...  Anxiety   \n",
       "\n",
       "                                              Tokens  \\\n",
       "0                                     [oh, my, gosh]   \n",
       "1  [trouble, sleeping, ,, confused, mind, ,, rest...   \n",
       "2  [All, wrong, ,, back, off, dear, ,, forward, d...   \n",
       "3  [I, 've, shifted, my, focus, to, something, el...   \n",
       "4  [I, 'm, restless, and, restless, ,, it, 's, be...   \n",
       "\n",
       "                                              tokens  \n",
       "0                                     [oh, my, gosh]  \n",
       "1  [trouble, sleeping, ,, confused, mind, ,, rest...  \n",
       "2  [All, wrong, ,, back, off, dear, ,, forward, d...  \n",
       "3  [I, 've, shifted, my, focus, to, something, el...  \n",
       "4  [I, 'm, restless, and, restless, ,, it, 's, be...  "
      ]
     },
     "execution_count": 19,
     "metadata": {},
     "output_type": "execute_result"
    }
   ],
   "source": [
    "df.head()"
   ]
  },
  {
   "cell_type": "code",
   "execution_count": 20,
   "id": "8a93d799-4bfc-4699-85b1-26b748e79374",
   "metadata": {},
   "outputs": [],
   "source": [
    "df=df.drop(columns = 'Tokens')"
   ]
  },
  {
   "cell_type": "code",
   "execution_count": 21,
   "id": "72d22301-5068-4672-a4ac-89c76116242a",
   "metadata": {},
   "outputs": [
    {
     "data": {
      "text/html": [
       "<div>\n",
       "<style scoped>\n",
       "    .dataframe tbody tr th:only-of-type {\n",
       "        vertical-align: middle;\n",
       "    }\n",
       "\n",
       "    .dataframe tbody tr th {\n",
       "        vertical-align: top;\n",
       "    }\n",
       "\n",
       "    .dataframe thead th {\n",
       "        text-align: right;\n",
       "    }\n",
       "</style>\n",
       "<table border=\"1\" class=\"dataframe\">\n",
       "  <thead>\n",
       "    <tr style=\"text-align: right;\">\n",
       "      <th></th>\n",
       "      <th>statement</th>\n",
       "      <th>status</th>\n",
       "      <th>tokens</th>\n",
       "    </tr>\n",
       "  </thead>\n",
       "  <tbody>\n",
       "    <tr>\n",
       "      <th>0</th>\n",
       "      <td>oh my gosh</td>\n",
       "      <td>Anxiety</td>\n",
       "      <td>[oh, my, gosh]</td>\n",
       "    </tr>\n",
       "    <tr>\n",
       "      <th>1</th>\n",
       "      <td>trouble sleeping, confused mind, restless hear...</td>\n",
       "      <td>Anxiety</td>\n",
       "      <td>[trouble, sleeping, ,, confused, mind, ,, rest...</td>\n",
       "    </tr>\n",
       "    <tr>\n",
       "      <th>2</th>\n",
       "      <td>All wrong, back off dear, forward doubt. Stay ...</td>\n",
       "      <td>Anxiety</td>\n",
       "      <td>[All, wrong, ,, back, off, dear, ,, forward, d...</td>\n",
       "    </tr>\n",
       "    <tr>\n",
       "      <th>3</th>\n",
       "      <td>I've shifted my focus to something else but I'...</td>\n",
       "      <td>Anxiety</td>\n",
       "      <td>[I, 've, shifted, my, focus, to, something, el...</td>\n",
       "    </tr>\n",
       "    <tr>\n",
       "      <th>4</th>\n",
       "      <td>I'm restless and restless, it's been a month n...</td>\n",
       "      <td>Anxiety</td>\n",
       "      <td>[I, 'm, restless, and, restless, ,, it, 's, be...</td>\n",
       "    </tr>\n",
       "  </tbody>\n",
       "</table>\n",
       "</div>"
      ],
      "text/plain": [
       "                                           statement   status  \\\n",
       "0                                         oh my gosh  Anxiety   \n",
       "1  trouble sleeping, confused mind, restless hear...  Anxiety   \n",
       "2  All wrong, back off dear, forward doubt. Stay ...  Anxiety   \n",
       "3  I've shifted my focus to something else but I'...  Anxiety   \n",
       "4  I'm restless and restless, it's been a month n...  Anxiety   \n",
       "\n",
       "                                              tokens  \n",
       "0                                     [oh, my, gosh]  \n",
       "1  [trouble, sleeping, ,, confused, mind, ,, rest...  \n",
       "2  [All, wrong, ,, back, off, dear, ,, forward, d...  \n",
       "3  [I, 've, shifted, my, focus, to, something, el...  \n",
       "4  [I, 'm, restless, and, restless, ,, it, 's, be...  "
      ]
     },
     "execution_count": 21,
     "metadata": {},
     "output_type": "execute_result"
    }
   ],
   "source": [
    "df.head()"
   ]
  },
  {
   "cell_type": "code",
   "execution_count": 29,
   "id": "807cea71-f447-45dd-92f4-65c16bf3d744",
   "metadata": {},
   "outputs": [
    {
     "data": {
      "text/plain": [
       "(53043,)"
      ]
     },
     "execution_count": 29,
     "metadata": {},
     "output_type": "execute_result"
    }
   ],
   "source": [
    "df['tokens'].shape"
   ]
  },
  {
   "cell_type": "markdown",
   "id": "d0877bc0-a57b-4467-8161-146a548dad9c",
   "metadata": {},
   "source": [
    "### Lemmatization (normalizing words)\n",
    "#### Converting text to the 'base' format."
   ]
  },
  {
   "cell_type": "markdown",
   "id": "85c7c0af-bcbf-4f06-b745-eac90f72190d",
   "metadata": {},
   "source": [
    "#### Will first use spacy function .is_stop to check if the tokens are a stop word in the spacy list. There are 326 stop words in the default spacy list. See the words below. Then if the token is not a stop word, will use the spacy lemma_ function to limmatize the token and save it."
   ]
  },
  {
   "cell_type": "code",
   "execution_count": 27,
   "id": "bad39abd-da68-4dca-b867-d0eacc6f492b",
   "metadata": {
    "scrolled": true
   },
   "outputs": [
    {
     "name": "stdout",
     "output_type": "stream",
     "text": [
      "326\n",
      "{'unless', 'ours', 'two', 'most', 'full', 'all', 'whole', 'whether', 'across', 'one', 'they', 'again', 'was', 'us', 'move', 'cannot', 'twelve', 'more', 'anyhow', 'someone', 'too', 'nevertheless', 'these', 'hers', 'themselves', 'up', 'had', 'only', 'beside', 'below', 'whose', 'when', 'although', 'with', 'its', 'for', 'third', 'together', 'indeed', 'becoming', 'than', 'over', 'until', '‘ll', 'were', 'ca', 'yourself', 'just', 'am', 'other', 'nowhere', 'ten', 'per', 'nor', 'your', 'whoever', \"'re\", 'afterwards', 'will', 'myself', 'should', 're', 'everything', 'such', 'if', 'herein', '’re', 'down', 'where', 'above', 'say', 'she', 'sometimes', 'own', 'next', 'rather', 'must', 'keep', 'seemed', 'their', 'yourselves', 'put', 'does', 'enough', 'further', 'anything', 'towards', 'each', 'every', 'empty', 'everywhere', 'which', 'four', '‘d', 'made', 'could', 'on', 'beyond', 'else', '’d', 'nobody', 'formerly', 'get', 'thus', 'because', 'what', 'the', 'at', 'quite', 'onto', 'therein', 'several', 'those', \"'m\", 'would', 'during', 'out', 'mine', 'somehow', 'behind', 'thru', 'did', 'eleven', 'why', 'call', 'them', 'might', 'himself', 'wherever', 'eight', '‘m', 'done', 'nothing', 'toward', 'alone', 'always', 'about', 'never', 'by', '‘s', 'amount', 'whereby', 'latterly', 'whither', 'so', 'therefore', 'bottom', 'that', 'beforehand', 'against', 'here', 'thereupon', 'among', 'twenty', \"'ll\", 'whence', 'seems', 'regarding', 'go', 'anyway', 'noone', 'or', 'used', 'besides', 'of', 'three', 'either', 'now', 'after', 'much', 'using', 'an', 'can', 'but', 'already', 'another', 'last', 'thence', 'fifty', 'whereupon', 'five', '’ve', 'side', 'from', 'moreover', 'name', 'well', 'whom', 'nine', 'since', 'back', 'he', 'least', \"n't\", 'thereby', 'whereafter', 'then', 'n’t', 'itself', 'being', 'ever', 'take', 'front', 'we', 'part', 'no', 'see', 'this', 'been', 'something', 'without', 'whenever', 'as', 'amongst', 'top', 'hence', 'please', 'along', 'somewhere', '‘re', 'seeming', 'yours', 'mostly', 'give', 'also', 'not', 'often', 'still', 'yet', '’s', 'whereas', 'anywhere', 'ourselves', 'became', 'both', 'serious', 'once', 'except', 'may', 'hundred', 'perhaps', 'even', 'everyone', 'make', 'within', 'his', 'me', 'is', 'thereafter', 'off', 'anyone', 'hereafter', 'around', 'hereby', 'meanwhile', 'you', 'to', 'between', 'before', 'and', 'be', 'neither', 'namely', 'him', 'her', 'forty', 'seem', 'sometime', 'though', 'my', 'there', 'are', 'whatever', 'otherwise', 'through', 'becomes', 'in', '’m', 'show', 'due', 'hereupon', 'n‘t', '’ll', 'herself', 'really', 'upon', 'our', 'a', 'none', 'wherein', 'become', 'very', 'latter', 'how', 'i', 'under', 'via', 'while', 'same', 'who', 'any', 'it', \"'s\", 'first', 'almost', 'elsewhere', \"'d\", 'others', 'into', 'doing', 'various', 'sixty', 'former', 'less', 'fifteen', 'six', 'however', 'few', 'do', 'throughout', 'many', '‘ve', 'some', 'have', \"'ve\", 'has'}\n"
     ]
    }
   ],
   "source": [
    "stopwords = nlp.Defaults.stop_words\n",
    "\n",
    "print(len(stopwords))\n",
    "print(stopwords)"
   ]
  },
  {
   "cell_type": "code",
   "execution_count": 30,
   "id": "b22e0f25-dcc6-4758-8228-1f460462e2ef",
   "metadata": {},
   "outputs": [],
   "source": [
    "df['lemmas'] = df['tokens'].apply(lambda x: [token.lemma_ for token in nlp(str(x)) if not token.is_stop])"
   ]
  },
  {
   "cell_type": "code",
   "execution_count": 31,
   "id": "379a4852-489a-4476-b231-8c3536c64cbd",
   "metadata": {},
   "outputs": [
    {
     "data": {
      "text/html": [
       "<div>\n",
       "<style scoped>\n",
       "    .dataframe tbody tr th:only-of-type {\n",
       "        vertical-align: middle;\n",
       "    }\n",
       "\n",
       "    .dataframe tbody tr th {\n",
       "        vertical-align: top;\n",
       "    }\n",
       "\n",
       "    .dataframe thead th {\n",
       "        text-align: right;\n",
       "    }\n",
       "</style>\n",
       "<table border=\"1\" class=\"dataframe\">\n",
       "  <thead>\n",
       "    <tr style=\"text-align: right;\">\n",
       "      <th></th>\n",
       "      <th>statement</th>\n",
       "      <th>status</th>\n",
       "      <th>tokens</th>\n",
       "      <th>lemmas</th>\n",
       "    </tr>\n",
       "  </thead>\n",
       "  <tbody>\n",
       "    <tr>\n",
       "      <th>0</th>\n",
       "      <td>oh my gosh</td>\n",
       "      <td>Anxiety</td>\n",
       "      <td>[oh, my, gosh]</td>\n",
       "      <td>[[, ', oh, ', ,, ', ', ,, ', gosh, ', ]]</td>\n",
       "    </tr>\n",
       "    <tr>\n",
       "      <th>1</th>\n",
       "      <td>trouble sleeping, confused mind, restless hear...</td>\n",
       "      <td>Anxiety</td>\n",
       "      <td>[trouble, sleeping, ,, confused, mind, ,, rest...</td>\n",
       "      <td>[[, ', trouble, ', ,, ', sleep, ', ,, ', ,, ',...</td>\n",
       "    </tr>\n",
       "    <tr>\n",
       "      <th>2</th>\n",
       "      <td>All wrong, back off dear, forward doubt. Stay ...</td>\n",
       "      <td>Anxiety</td>\n",
       "      <td>[All, wrong, ,, back, off, dear, ,, forward, d...</td>\n",
       "      <td>[[, ', ', ,, ', wrong, ', ,, ', ,, ', ,, ', ',...</td>\n",
       "    </tr>\n",
       "    <tr>\n",
       "      <th>3</th>\n",
       "      <td>I've shifted my focus to something else but I'...</td>\n",
       "      <td>Anxiety</td>\n",
       "      <td>[I, 've, shifted, my, focus, to, something, el...</td>\n",
       "      <td>[[, ', ', ,, \", ', ve, \", ,, ', shift, ', ,, '...</td>\n",
       "    </tr>\n",
       "    <tr>\n",
       "      <th>4</th>\n",
       "      <td>I'm restless and restless, it's been a month n...</td>\n",
       "      <td>Anxiety</td>\n",
       "      <td>[I, 'm, restless, and, restless, ,, it, 's, be...</td>\n",
       "      <td>[[, ', ', ,, \", ', m, \", ,, ', restless, ', ,,...</td>\n",
       "    </tr>\n",
       "  </tbody>\n",
       "</table>\n",
       "</div>"
      ],
      "text/plain": [
       "                                           statement   status  \\\n",
       "0                                         oh my gosh  Anxiety   \n",
       "1  trouble sleeping, confused mind, restless hear...  Anxiety   \n",
       "2  All wrong, back off dear, forward doubt. Stay ...  Anxiety   \n",
       "3  I've shifted my focus to something else but I'...  Anxiety   \n",
       "4  I'm restless and restless, it's been a month n...  Anxiety   \n",
       "\n",
       "                                              tokens  \\\n",
       "0                                     [oh, my, gosh]   \n",
       "1  [trouble, sleeping, ,, confused, mind, ,, rest...   \n",
       "2  [All, wrong, ,, back, off, dear, ,, forward, d...   \n",
       "3  [I, 've, shifted, my, focus, to, something, el...   \n",
       "4  [I, 'm, restless, and, restless, ,, it, 's, be...   \n",
       "\n",
       "                                              lemmas  \n",
       "0           [[, ', oh, ', ,, ', ', ,, ', gosh, ', ]]  \n",
       "1  [[, ', trouble, ', ,, ', sleep, ', ,, ', ,, ',...  \n",
       "2  [[, ', ', ,, ', wrong, ', ,, ', ,, ', ,, ', ',...  \n",
       "3  [[, ', ', ,, \", ', ve, \", ,, ', shift, ', ,, '...  \n",
       "4  [[, ', ', ,, \", ', m, \", ,, ', restless, ', ,,...  "
      ]
     },
     "execution_count": 31,
     "metadata": {},
     "output_type": "execute_result"
    }
   ],
   "source": [
    "df.head()"
   ]
  },
  {
   "cell_type": "code",
   "execution_count": 32,
   "id": "49c10817-e21d-47e0-b8eb-b70f6219caf6",
   "metadata": {},
   "outputs": [
    {
     "data": {
      "text/plain": [
       "(53043, 4)"
      ]
     },
     "execution_count": 32,
     "metadata": {},
     "output_type": "execute_result"
    }
   ],
   "source": [
    "df.shape"
   ]
  },
  {
   "cell_type": "markdown",
   "id": "f4e0cb14-53ff-41c7-9779-a4020643fce2",
   "metadata": {},
   "source": [
    "#### The above work looks like I may be going down the wrong path. After discussion with Hank, we are going to try using CountVectorizer. See the notes below from our discussion:"
   ]
  },
  {
   "cell_type": "code",
   "execution_count": null,
   "id": "db4adaf2-50e0-4e0c-950d-3f4544568412",
   "metadata": {},
   "outputs": [],
   "source": []
  },
  {
   "cell_type": "markdown",
   "id": "31ab860d-0b9b-4d41-baad-99a5f952b041",
   "metadata": {},
   "source": [
    "#### A few notes from what we discussed:\n",
    "#### * CountVectorizer and TfidfVectorizer in SKlearn can be used in a Pipeline and GridSearched over.\n",
    "#### * You can do this all locally\n",
    "#### * Multinomial Naive Bayes also does well with the CVEC and Tfidf Vectorizers\n",
    "#### How to get data to Colab"
   ]
  },
  {
   "cell_type": "markdown",
   "id": "397b26e5-2f5d-4de0-96b2-c8712b0121f0",
   "metadata": {},
   "source": [
    "#### To mount your drive\n",
    "from google.colab import drive\n",
    "\n",
    "drive.mount('/content/drive')\n",
    "\n",
    "#### or upload\n",
    "\n",
    "from google.colab import files\n",
    "\n",
    "uploaded = files.upload()\n",
    "\n",
    "import pandas as pd\n",
    "import io\n",
    "\n",
    "df = pd.read_csv(io.BytesIO(uploaded['whatever_you_uploaded.csv']))\n",
    "\n",
    "df.head()\n"
   ]
  },
  {
   "cell_type": "markdown",
   "id": "1ce15947-def0-465f-b916-2b0755f6c461",
   "metadata": {},
   "source": [
    "#### Sidenote, depending on how large the data file is, don't push it to GitHub so you can avoid dealing with a large file issue."
   ]
  },
  {
   "cell_type": "markdown",
   "id": "7d4d1aeb-ae18-47f0-8bba-db80b7e928b1",
   "metadata": {},
   "source": [
    "#### https://www.nltk.org/_modules/nltk/sentiment/vader.html"
   ]
  },
  {
   "cell_type": "markdown",
   "id": "3440ffa5-d8a3-4aa7-9bcc-a16159cfb9e5",
   "metadata": {},
   "source": [
    "---------\n",
    "\n",
    "### Reloaded data as df2 to start with  CountVectorizer"
   ]
  },
  {
   "cell_type": "code",
   "execution_count": 38,
   "id": "ee256c16-d472-4369-99eb-8112b34f4448",
   "metadata": {},
   "outputs": [
    {
     "data": {
      "text/html": [
       "<div>\n",
       "<style scoped>\n",
       "    .dataframe tbody tr th:only-of-type {\n",
       "        vertical-align: middle;\n",
       "    }\n",
       "\n",
       "    .dataframe tbody tr th {\n",
       "        vertical-align: top;\n",
       "    }\n",
       "\n",
       "    .dataframe thead th {\n",
       "        text-align: right;\n",
       "    }\n",
       "</style>\n",
       "<table border=\"1\" class=\"dataframe\">\n",
       "  <thead>\n",
       "    <tr style=\"text-align: right;\">\n",
       "      <th></th>\n",
       "      <th>statement</th>\n",
       "      <th>status</th>\n",
       "    </tr>\n",
       "  </thead>\n",
       "  <tbody>\n",
       "    <tr>\n",
       "      <th>0</th>\n",
       "      <td>oh my gosh</td>\n",
       "      <td>Anxiety</td>\n",
       "    </tr>\n",
       "    <tr>\n",
       "      <th>1</th>\n",
       "      <td>trouble sleeping, confused mind, restless hear...</td>\n",
       "      <td>Anxiety</td>\n",
       "    </tr>\n",
       "    <tr>\n",
       "      <th>2</th>\n",
       "      <td>All wrong, back off dear, forward doubt. Stay ...</td>\n",
       "      <td>Anxiety</td>\n",
       "    </tr>\n",
       "    <tr>\n",
       "      <th>3</th>\n",
       "      <td>I've shifted my focus to something else but I'...</td>\n",
       "      <td>Anxiety</td>\n",
       "    </tr>\n",
       "    <tr>\n",
       "      <th>4</th>\n",
       "      <td>I'm restless and restless, it's been a month n...</td>\n",
       "      <td>Anxiety</td>\n",
       "    </tr>\n",
       "  </tbody>\n",
       "</table>\n",
       "</div>"
      ],
      "text/plain": [
       "                                           statement   status\n",
       "0                                         oh my gosh  Anxiety\n",
       "1  trouble sleeping, confused mind, restless hear...  Anxiety\n",
       "2  All wrong, back off dear, forward doubt. Stay ...  Anxiety\n",
       "3  I've shifted my focus to something else but I'...  Anxiety\n",
       "4  I'm restless and restless, it's been a month n...  Anxiety"
      ]
     },
     "execution_count": 38,
     "metadata": {},
     "output_type": "execute_result"
    }
   ],
   "source": [
    "df2.head()"
   ]
  },
  {
   "cell_type": "code",
   "execution_count": 39,
   "id": "7bf75403-6751-40d8-a48b-7749bfa1a196",
   "metadata": {},
   "outputs": [
    {
     "data": {
      "text/plain": [
       "(53043, 2)"
      ]
     },
     "execution_count": 39,
     "metadata": {},
     "output_type": "execute_result"
    }
   ],
   "source": [
    "df2.shape"
   ]
  },
  {
   "cell_type": "code",
   "execution_count": 48,
   "id": "20885640-650d-4edd-80e1-24593fbf6345",
   "metadata": {},
   "outputs": [
    {
     "data": {
      "text/plain": [
       "statement    object\n",
       "status       object\n",
       "dtype: object"
      ]
     },
     "execution_count": 48,
     "metadata": {},
     "output_type": "execute_result"
    }
   ],
   "source": [
    "df2.dtypes"
   ]
  },
  {
   "cell_type": "code",
   "execution_count": 47,
   "id": "8f322d5d-2d86-49e0-8de3-f6a4da992601",
   "metadata": {},
   "outputs": [
    {
     "data": {
      "text/plain": [
       "statement    362\n",
       "status         0\n",
       "dtype: int64"
      ]
     },
     "execution_count": 47,
     "metadata": {},
     "output_type": "execute_result"
    }
   ],
   "source": [
    "df2.isnull().sum()"
   ]
  },
  {
   "cell_type": "markdown",
   "id": "7c7e35b5-37aa-4332-bd62-646f6d9c19e1",
   "metadata": {},
   "source": [
    "#### Only 362 rows out of 53,043 so will drop the rows with null values"
   ]
  },
  {
   "cell_type": "code",
   "execution_count": 49,
   "id": "ae50450d-1603-49f3-8ca2-1fb432dfc569",
   "metadata": {},
   "outputs": [],
   "source": [
    "df2_cleaned = df2.dropna()"
   ]
  },
  {
   "cell_type": "code",
   "execution_count": 50,
   "id": "8fcf9e28-702c-4c0d-9ff3-d5399d772d99",
   "metadata": {},
   "outputs": [
    {
     "data": {
      "text/plain": [
       "(52681, 2)"
      ]
     },
     "execution_count": 50,
     "metadata": {},
     "output_type": "execute_result"
    }
   ],
   "source": [
    "df2_cleaned.shape"
   ]
  },
  {
   "cell_type": "code",
   "execution_count": 51,
   "id": "4153d77c-748c-48dc-a86d-4dbae93755aa",
   "metadata": {},
   "outputs": [
    {
     "data": {
      "text/plain": [
       "statement    0\n",
       "status       0\n",
       "dtype: int64"
      ]
     },
     "execution_count": 51,
     "metadata": {},
     "output_type": "execute_result"
    }
   ],
   "source": [
    "df2_cleaned.isnull().sum()"
   ]
  },
  {
   "cell_type": "code",
   "execution_count": 52,
   "id": "176942bd-e901-4f46-a603-baf9b9d52eef",
   "metadata": {
    "scrolled": true
   },
   "outputs": [],
   "source": [
    "vectorizer = CountVectorizer(stop_words='english')\n",
    "df2_cleaned_statement_vectorized = vectorizer.fit_transform(df2_cleaned['statement'])"
   ]
  },
  {
   "cell_type": "markdown",
   "id": "2c580292-0563-4916-a51a-9d2fca9ff449",
   "metadata": {},
   "source": [
    "#### df2_cleaned_statement_vectorized is a sparse matrix"
   ]
  },
  {
   "cell_type": "code",
   "execution_count": 53,
   "id": "b7b69e84-643c-4e94-920d-79c0f350788a",
   "metadata": {},
   "outputs": [
    {
     "data": {
      "text/plain": [
       "(52681, 58930)"
      ]
     },
     "execution_count": 53,
     "metadata": {},
     "output_type": "execute_result"
    }
   ],
   "source": [
    "df2_cleaned_statement_vectorized.shape"
   ]
  },
  {
   "cell_type": "code",
   "execution_count": 54,
   "id": "f02e8659-8ed3-4a30-a6c2-62a8a55f0f43",
   "metadata": {
    "scrolled": true
   },
   "outputs": [
    {
     "data": {
      "text/plain": [
       "{'oh': 37004,\n",
       " 'gosh': 22810,\n",
       " 'trouble': 53560,\n",
       " 'sleeping': 47541,\n",
       " 'confused': 11893,\n",
       " 'mind': 33619,\n",
       " 'restless': 43850,\n",
       " 'heart': 24243,\n",
       " 'tune': 53760,\n",
       " 'wrong': 57886,\n",
       " 'dear': 13888,\n",
       " 'forward': 21049,\n",
       " 'doubt': 16327,\n",
       " 'stay': 49212,\n",
       " 'place': 39770,\n",
       " 've': 55559,\n",
       " 'shifted': 46637,\n",
       " 'focus': 20758,\n",
       " 'worried': 57697,\n",
       " 'month': 34310,\n",
       " 'boy': 8183,\n",
       " 'mean': 32772,\n",
       " 'break': 8332,\n",
       " 'nervous': 35692,\n",
       " 'like': 30827,\n",
       " 'heck': 24311,\n",
       " 'feel': 19912,\n",
       " 'scared': 45425,\n",
       " 'anxious': 4492,\n",
       " 'family': 19571,\n",
       " 'protected': 41279,\n",
       " 'felt': 19981,\n",
       " 'didn': 15104,\n",
       " 'know': 29646,\n",
       " 'haven': 24065,\n",
       " 'slept': 47562,\n",
       " 'days': 13764,\n",
       " 'huh': 25455,\n",
       " 'really': 42593,\n",
       " 'want': 56448,\n",
       " 'night': 35967,\n",
       " 'don': 16181,\n",
       " 'strange': 49586,\n",
       " 'feeling': 19917,\n",
       " 'good': 22723,\n",
       " 'lately': 30186,\n",
       " 'time': 52427,\n",
       " 'sleep': 47533,\n",
       " 'needed': 35548,\n",
       " 'problem': 40980,\n",
       " 'laugh': 30220,\n",
       " 'forget': 20956,\n",
       " 'remember': 43389,\n",
       " 'turns': 53798,\n",
       " 'sad': 44956,\n",
       " 'burden': 8845,\n",
       " 'blah': 7537,\n",
       " 'worry': 57707,\n",
       " 'thoughts': 52175,\n",
       " 'make': 32048,\n",
       " 'afraid': 3063,\n",
       " 'close': 10968,\n",
       " 'eyes': 19287,\n",
       " 'wake': 56362,\n",
       " 'definitely': 14174,\n",
       " 'excited': 18866,\n",
       " 'going': 22660,\n",
       " 'try': 53637,\n",
       " 'hope': 25123,\n",
       " 'starts': 49163,\n",
       " 'restive': 43849,\n",
       " 'regrets': 43133,\n",
       " 'grudges': 23252,\n",
       " 'angry': 4205,\n",
       " 'things': 52017,\n",
       " 'passed': 38580,\n",
       " 'worrying': 57708,\n",
       " 'future': 21678,\n",
       " 'true': 53597,\n",
       " 'serenity': 46214,\n",
       " 'guy': 23437,\n",
       " 'sick': 47004,\n",
       " 'girl': 22394,\n",
       " 'actually': 2684,\n",
       " 'feels': 19934,\n",
       " 'indirectly': 26776,\n",
       " 'person': 39172,\n",
       " 'ended': 17835,\n",
       " 'successfully': 49992,\n",
       " 'online': 37218,\n",
       " '9am': 1988,\n",
       " 'state': 49180,\n",
       " 'restlessness': 43852,\n",
       " 'just': 28926,\n",
       " 'nature': 35390,\n",
       " 'picking': 39519,\n",
       " 'phone': 39411,\n",
       " 'little': 31068,\n",
       " 'guilty': 23346,\n",
       " 'sorry': 48334,\n",
       " 'best': 7082,\n",
       " 'morning': 34415,\n",
       " 'makes': 32058,\n",
       " 'sleepy': 47554,\n",
       " 'cave': 9764,\n",
       " 'bad': 6144,\n",
       " 'mood': 34335,\n",
       " 'beating': 6669,\n",
       " 'fast': 19713,\n",
       " 'busy': 8955,\n",
       " 'geez': 22083,\n",
       " 'broken': 8527,\n",
       " 'fragile': 21104,\n",
       " 'hurt': 25587,\n",
       " 'stand': 49081,\n",
       " 'anxiety': 4476,\n",
       " 'anymore': 4523,\n",
       " 'love': 31535,\n",
       " 'ignored': 26080,\n",
       " 'seen': 45934,\n",
       " 'left': 30440,\n",
       " 'far': 19659,\n",
       " 'away': 5868,\n",
       " 'wants': 56460,\n",
       " 'll': 31157,\n",
       " 'step': 49269,\n",
       " 'suggest': 50101,\n",
       " 'song': 48235,\n",
       " 'calm': 9224,\n",
       " 'suddenly': 50040,\n",
       " 'anger': 4184,\n",
       " 'appears': 4741,\n",
       " 'thanks': 51691,\n",
       " 'terooosss': 51541,\n",
       " 'huuuu': 25631,\n",
       " 'today': 52680,\n",
       " 'doesn': 16078,\n",
       " 'jealous': 28333,\n",
       " 'disappointed': 15404,\n",
       " 'failed': 19440,\n",
       " 'habit': 23504,\n",
       " 'elementary': 17459,\n",
       " 'school': 45532,\n",
       " 'think': 52033,\n",
       " 'yesterday': 58341,\n",
       " 'sensitive': 46123,\n",
       " 'surprised': 50460,\n",
       " 'surprises': 50462,\n",
       " 'day': 13734,\n",
       " 'brain': 8250,\n",
       " 'explode': 19123,\n",
       " 'target': 51107,\n",
       " 'ups': 55124,\n",
       " 'downs': 16386,\n",
       " 'grateful': 23011,\n",
       " 'lecture': 30409,\n",
       " 'drama': 16475,\n",
       " 'tonight': 52833,\n",
       " 'continues': 12164,\n",
       " 'chatter': 10138,\n",
       " 'money': 34245,\n",
       " 'said': 45023,\n",
       " 'kept': 29277,\n",
       " 'blabbering': 7501,\n",
       " 'god': 22603,\n",
       " 'mouth': 34577,\n",
       " 'talking': 51001,\n",
       " 'waiting': 56349,\n",
       " 'uncertainty': 54267,\n",
       " 'did': 15092,\n",
       " 'read': 42527,\n",
       " 'rl': 44343,\n",
       " 'atmosphere': 5494,\n",
       " 'taste': 51139,\n",
       " 'au': 5614,\n",
       " 'topic': 52892,\n",
       " 'mental': 33126,\n",
       " 'illness': 26189,\n",
       " 'hi': 24629,\n",
       " 'tell': 51374,\n",
       " 'searched': 45809,\n",
       " 'google': 22761,\n",
       " 'says': 45366,\n",
       " 'mild': 33538,\n",
       " 'symptom': 50775,\n",
       " 'depression': 14565,\n",
       " 'used': 55240,\n",
       " 'mom': 34192,\n",
       " 'psychologist': 41442,\n",
       " 'friend': 21286,\n",
       " 'important': 26425,\n",
       " 'depressed': 14551,\n",
       " 'easily': 17051,\n",
       " 'frequent': 21247,\n",
       " 'irregular': 27799,\n",
       " 'breathing': 8374,\n",
       " 'past': 38610,\n",
       " 'nauseous': 35409,\n",
       " 'come': 11370,\n",
       " 'walk': 56381,\n",
       " 'jesus': 28442,\n",
       " 'sing': 47215,\n",
       " 'tomorrow': 52807,\n",
       " 'section': 45880,\n",
       " 'controlling': 12222,\n",
       " 'easy': 17064,\n",
       " 'sounds': 48393,\n",
       " 'pandemic': 38290,\n",
       " 'opened': 37302,\n",
       " 'laptop': 30136,\n",
       " 'heavy': 24304,\n",
       " 'life': 30715,\n",
       " 'load': 31210,\n",
       " 'people': 38978,\n",
       " 'touching': 52991,\n",
       " 'face': 19360,\n",
       " 'ringing': 44258,\n",
       " 'fingers': 20293,\n",
       " 'breaks': 8350,\n",
       " 'feelings': 19922,\n",
       " 'let': 30564,\n",
       " 'confessed': 11830,\n",
       " 'disorder': 15665,\n",
       " 'wasn': 56542,\n",
       " 'thinking': 52043,\n",
       " 'week': 56760,\n",
       " 'head': 24138,\n",
       " 'rest': 43830,\n",
       " 'war': 56468,\n",
       " 'economic': 17145,\n",
       " 'crisis': 12928,\n",
       " 'air': 3341,\n",
       " 'pollution': 40196,\n",
       " 'disease': 15552,\n",
       " 'outbreaks': 37636,\n",
       " 'clean': 10823,\n",
       " 'water': 56576,\n",
       " 'happy': 23866,\n",
       " 'started': 49147,\n",
       " 'appear': 4732,\n",
       " 'bgsd': 7215,\n",
       " 'income': 26629,\n",
       " 'direction': 15350,\n",
       " 'hopefully': 25129,\n",
       " 'need': 35546,\n",
       " 'given': 22417,\n",
       " 'advantage': 2927,\n",
       " 'desire': 14729,\n",
       " '21': 815,\n",
       " 'hour': 25294,\n",
       " 'ngde': 35870,\n",
       " 'kle': 29564,\n",
       " 'cak': 9160,\n",
       " 'polishing': 40171,\n",
       " 'dwg': 16899,\n",
       " 'sudden': 50039,\n",
       " 'relaxed': 43273,\n",
       " 'lethargic': 30572,\n",
       " 'impromptu': 26467,\n",
       " 'yes': 58329,\n",
       " 'ha': 23489,\n",
       " 'words': 57606,\n",
       " 'encouragement': 17806,\n",
       " 'kids': 29401,\n",
       " 'wehhh': 56794,\n",
       " 'anxiously': 4494,\n",
       " 'hear': 24232,\n",
       " 'peramoy': 39013,\n",
       " 'tired': 52550,\n",
       " 'uneasy': 54498,\n",
       " 'grows': 23235,\n",
       " 'closer': 10972,\n",
       " 'expect': 19030,\n",
       " 'point': 40097,\n",
       " 'disturb': 15878,\n",
       " 'hopes': 25140,\n",
       " 'especially': 18392,\n",
       " 'disturbing': 15883,\n",
       " 'km': 29589,\n",
       " 'urmi': 55210,\n",
       " 'fever': 20070,\n",
       " 'afternoon': 3082,\n",
       " 'hurts': 25597,\n",
       " 'tried': 53449,\n",
       " 'brake': 8276,\n",
       " 'agitated': 3181,\n",
       " 'midst': 33484,\n",
       " 'dismayed': 15642,\n",
       " 'great': 23052,\n",
       " 'okay': 37051,\n",
       " 'allah': 3612,\n",
       " 'protect': 41278,\n",
       " 'amen': 3895,\n",
       " 'robbal': 44404,\n",
       " 'alamin': 3451,\n",
       " 'friends': 21303,\n",
       " 'replied': 43566,\n",
       " 'tweet': 53840,\n",
       " 'opinion': 37341,\n",
       " 'hungry': 25551,\n",
       " 'weak': 56661,\n",
       " 'sleeps': 47547,\n",
       " 'hours': 25298,\n",
       " 'variety': 55520,\n",
       " 'positions': 40340,\n",
       " 'ways': 56624,\n",
       " 'fall': 19519,\n",
       " 'asleep': 5221,\n",
       " 'able': 2282,\n",
       " 'control': 12213,\n",
       " 'stop': 49485,\n",
       " 'gamau': 21836,\n",
       " 'gundah': 23379,\n",
       " 'gulana': 23359,\n",
       " 'work': 57614,\n",
       " 'restlessly': 43851,\n",
       " 'exam': 18790,\n",
       " 'saturday': 45288,\n",
       " 'starting': 49157,\n",
       " 'presentation': 40745,\n",
       " 'ct': 13118,\n",
       " 'cse': 13105,\n",
       " 'dept': 14602,\n",
       " 'assignments': 5322,\n",
       " 'clear': 10839,\n",
       " 'catia': 9728,\n",
       " 'training': 53136,\n",
       " 'products': 41056,\n",
       " 'hahahaha': 23575,\n",
       " 'awesome': 5893,\n",
       " 'mode': 34090,\n",
       " 'haha': 23567,\n",
       " 'change': 10035,\n",
       " 'live': 31086,\n",
       " 'news': 35827,\n",
       " 'quickly': 41991,\n",
       " 'insincerity': 27199,\n",
       " 'asked': 5203,\n",
       " 'self': 45998,\n",
       " 'sent': 46134,\n",
       " 'sustenance': 50540,\n",
       " 'moved': 34585,\n",
       " 'imagining': 26254,\n",
       " 'long': 31359,\n",
       " 'high': 24665,\n",
       " 'lazy': 30308,\n",
       " 'weird': 56816,\n",
       " 'sake': 45049,\n",
       " 'years': 58271,\n",
       " 'comfortable': 11404,\n",
       " 'condition': 11786,\n",
       " 'wondering': 57543,\n",
       " 'later': 30193,\n",
       " 'confidence': 11843,\n",
       " 'regretting': 43140,\n",
       " 'holding': 24947,\n",
       " 'continue': 12162,\n",
       " 'hmm': 24863,\n",
       " 'produce': 41046,\n",
       " 'complain': 11590,\n",
       " 'taking': 50967,\n",
       " 'care': 9481,\n",
       " 'children': 10335,\n",
       " 'body': 7867,\n",
       " 'getting': 22279,\n",
       " 'bigger': 7260,\n",
       " 'sunset': 50281,\n",
       " 'accept': 2440,\n",
       " 'situation': 47311,\n",
       " 'worse': 57714,\n",
       " 'yo': 58400,\n",
       " 'tbtb': 51225,\n",
       " 'tf': 51646,\n",
       " 'meh': 32961,\n",
       " 'swear': 50618,\n",
       " 'does': 16074,\n",
       " 'certain': 9928,\n",
       " 'thr': 52197,\n",
       " 'tukin': 53732,\n",
       " 'script': 45719,\n",
       " 'harmless': 23953,\n",
       " 'continuing': 12165,\n",
       " 'thesis': 51959,\n",
       " 'finished': 20306,\n",
       " 'dangerous': 13588,\n",
       " 'lives': 31107,\n",
       " 'original': 37496,\n",
       " 'sweaty': 50633,\n",
       " 'knowing': 29651,\n",
       " 'rabb': 42109,\n",
       " 'qur': 42073,\n",
       " 'cool': 12306,\n",
       " 'reduce': 42953,\n",
       " 'cynicism': 13407,\n",
       " 'bowochallenge': 8173,\n",
       " 'iwartabowochallenge': 28082,\n",
       " 'excessive': 18855,\n",
       " 'koran': 29734,\n",
       " 'tense': 51476,\n",
       " 'sign': 47086,\n",
       " 'hit': 24822,\n",
       " 'corona': 12409,\n",
       " 'blood': 7703,\n",
       " 'game': 21845,\n",
       " 'haunts': 24052,\n",
       " 'peak': 38801,\n",
       " 'period': 39086,\n",
       " 'stress': 49668,\n",
       " 'noisy': 36176,\n",
       " 'kinda': 29462,\n",
       " 'better': 7144,\n",
       " 'active': 2655,\n",
       " 'gain': 21800,\n",
       " 'weight': 56801,\n",
       " 'storm': 49529,\n",
       " 'bismillaah': 7437,\n",
       " 'half': 23650,\n",
       " 'death': 13895,\n",
       " 'wife': 57197,\n",
       " 'aware': 5866,\n",
       " 'stiff': 49348,\n",
       " 'wednesday': 56746,\n",
       " 'mother': 34482,\n",
       " 'died': 15119,\n",
       " 'isn': 27884,\n",
       " 'took': 52860,\n",
       " 'jump': 28878,\n",
       " 'descent': 14670,\n",
       " 'ask': 5199,\n",
       " 'picket': 39517,\n",
       " 'goes': 22636,\n",
       " 'testing': 51598,\n",
       " 'patience': 38660,\n",
       " 'happens': 23844,\n",
       " 'forgive': 20966,\n",
       " 'weaken': 56663,\n",
       " 'lose': 31473,\n",
       " 'enthusiasm': 18075,\n",
       " 'fighting': 20175,\n",
       " 'survive': 50493,\n",
       " 'exhale': 18945,\n",
       " 'chest': 10257,\n",
       " 'breath': 8362,\n",
       " 'having': 24080,\n",
       " 'peace': 38786,\n",
       " 'sure': 50417,\n",
       " 'choking': 10437,\n",
       " 'lot': 31497,\n",
       " 'schedules': 45491,\n",
       " 'neatly': 35505,\n",
       " 'arranged': 5042,\n",
       " 'biso': 7441,\n",
       " 'missed': 33884,\n",
       " 'ouch': 37612,\n",
       " 'adf': 2777,\n",
       " 'gegana': 22086,\n",
       " 'speechless': 48598,\n",
       " 'cause': 9750,\n",
       " 'honestly': 25062,\n",
       " 'new': 35806,\n",
       " 'look': 31398,\n",
       " 'bit': 7443,\n",
       " 'trust': 53622,\n",
       " 'forgiven': 20967,\n",
       " 'adit': 2796,\n",
       " 'stalking': 49066,\n",
       " 'learn': 30367,\n",
       " 'stalk': 49062,\n",
       " 'disorders': 15667,\n",
       " 'hold': 24941,\n",
       " 'disturbed': 15881,\n",
       " 'astagfirullah': 5378,\n",
       " 'reason': 42642,\n",
       " 'stomach': 49454,\n",
       " 'ache': 2562,\n",
       " 'hah': 23566,\n",
       " 'changed': 10037,\n",
       " 'running': 44817,\n",
       " 'looking': 31402,\n",
       " 'position': 40338,\n",
       " 'watching': 56570,\n",
       " 'evening': 18618,\n",
       " 'longing': 31373,\n",
       " 'doing': 16120,\n",
       " 'crying': 13079,\n",
       " 'default': 14114,\n",
       " 'overtingking': 37977,\n",
       " 'aren': 4933,\n",
       " 'instead': 27274,\n",
       " 'calmer': 9227,\n",
       " 'tap': 51078,\n",
       " 'dm': 15990,\n",
       " 'finally': 20247,\n",
       " 'uhh': 54073,\n",
       " 'mmhhh': 34030,\n",
       " 'ahh': 3271,\n",
       " 'run': 44805,\n",
       " 'stones': 49472,\n",
       " 'stepped': 49292,\n",
       " 'slowly': 47647,\n",
       " 'absorb': 2365,\n",
       " 'emotions': 17687,\n",
       " 'inspector': 27230,\n",
       " 'disappoint': 15403,\n",
       " 'accompanies': 2488,\n",
       " 'hlt': 24858,\n",
       " 'sweat': 50622,\n",
       " 'prayers': 40556,\n",
       " 'faithful': 19487,\n",
       " 'wait': 56344,\n",
       " 'prayed': 40554,\n",
       " 'prayer': 40555,\n",
       " 'unique': 54676,\n",
       " 'tears': 51271,\n",
       " 'happiness': 23859,\n",
       " 'end': 17819,\n",
       " 'humans': 25495,\n",
       " 'wonder': 57537,\n",
       " 'beats': 6674,\n",
       " 'weeks': 56771,\n",
       " 'normal': 36275,\n",
       " 'maybe': 32658,\n",
       " 'stressed': 49670,\n",
       " 'views': 55882,\n",
       " 'slower': 47644,\n",
       " 'woke': 57503,\n",
       " 'sore': 48314,\n",
       " 'coming': 11423,\n",
       " 'home': 24987,\n",
       " 'wey': 56929,\n",
       " 'chaos': 10056,\n",
       " 'solution': 48144,\n",
       " 'fear': 19858,\n",
       " 'uncertain': 54265,\n",
       " 'understanding': 54422,\n",
       " 'told': 52752,\n",
       " 'listen': 31004,\n",
       " 'immediately': 26301,\n",
       " 'innate': 27096,\n",
       " 'looks': 31407,\n",
       " 'play': 39864,\n",
       " 'bite': 7455,\n",
       " 'nails': 35209,\n",
       " 'honest': 25061,\n",
       " 'haihh': 23611,\n",
       " 'bat': 6509,\n",
       " 'locked': 31256,\n",
       " 'motion': 34503,\n",
       " 'whipped': 57057,\n",
       " 'debate': 13916,\n",
       " 'decisions': 14007,\n",
       " 'risk': 44294,\n",
       " 'wow': 57784,\n",
       " 'class': 10786,\n",
       " 'reach': 42508,\n",
       " 'gave': 22010,\n",
       " 'way': 56615,\n",
       " 'quiz': 42050,\n",
       " 'data': 13691,\n",
       " 'iftar': 26050,\n",
       " '10': 152,\n",
       " 'slow': 47639,\n",
       " 'short': 46812,\n",
       " 'agree': 3218,\n",
       " 'accompanied': 2486,\n",
       " 'injured': 27061,\n",
       " 'soon': 48262,\n",
       " 'sorrow': 48329,\n",
       " 'quieter': 42003,\n",
       " 'patient': 38663,\n",
       " 'senjamu': 46096,\n",
       " 'chicken': 10288,\n",
       " 'cake': 9161,\n",
       " 'lay': 30277,\n",
       " 'eggs': 17299,\n",
       " 'compare': 11540,\n",
       " 'envy': 18152,\n",
       " 'soul': 48372,\n",
       " 'dream': 16518,\n",
       " 'ones': 37197,\n",
       " 'unit': 54683,\n",
       " 'anjrit': 4268,\n",
       " 'intention': 27395,\n",
       " 'watch': 56561,\n",
       " 'series': 46223,\n",
       " 'thought': 52163,\n",
       " 'record': 42837,\n",
       " 'coys': 12697,\n",
       " 'usually': 55279,\n",
       " 'surely': 50420,\n",
       " 'happen': 23827,\n",
       " 'forgot': 20972,\n",
       " 'bastard': 6506,\n",
       " 'dialogue': 15023,\n",
       " 'accompanying': 2490,\n",
       " 'hoping': 25147,\n",
       " 'understand': 54419,\n",
       " 'father': 19741,\n",
       " 'smart': 47708,\n",
       " 'expectations': 19035,\n",
       " 'huhu': 25459,\n",
       " 'complete': 11606,\n",
       " 'produces': 41049,\n",
       " 'sense': 46106,\n",
       " 'ends': 17867,\n",
       " 'beautifully': 6686,\n",
       " 'bipolar': 7389,\n",
       " 'relapse': 43238,\n",
       " 'welcome': 56844,\n",
       " 'shortness': 46833,\n",
       " 'tremors': 53384,\n",
       " 'selfharm': 46004,\n",
       " 'mellow': 33026,\n",
       " 'finish': 20305,\n",
       " 'law': 30260,\n",
       " 'choosing': 10451,\n",
       " 'boring': 8055,\n",
       " 'chilling': 10352,\n",
       " 'aaa': 2122,\n",
       " 'smile': 47751,\n",
       " 'throw': 52268,\n",
       " 'millions': 33586,\n",
       " 'knew': 29618,\n",
       " 'fearful': 19860,\n",
       " 'experiences': 19068,\n",
       " 'extreme': 19243,\n",
       " 'sadness': 44984,\n",
       " 'crazy': 12808,\n",
       " 'plays': 39890,\n",
       " 'meeting': 32935,\n",
       " 'acid': 2591,\n",
       " 'rises': 44289,\n",
       " 'dizziness': 15947,\n",
       " 'unsettled': 54925,\n",
       " 'test': 51580,\n",
       " 'present': 40743,\n",
       " 'panic': 38309,\n",
       " 'nutmeg': 36607,\n",
       " 'pops': 40267,\n",
       " 'reading': 42534,\n",
       " 'free': 21185,\n",
       " 'shrill': 46908,\n",
       " 'novels': 36439,\n",
       " 'checking': 10174,\n",
       " 'calendar': 9188,\n",
       " 'case': 9617,\n",
       " 'job': 28592,\n",
       " 'rid': 44172,\n",
       " 'eid': 17338,\n",
       " 'friendship': 21307,\n",
       " 'stuck': 49780,\n",
       " '11am': 280,\n",
       " 'set': 46282,\n",
       " '12': 315,\n",
       " 'dizzy': 15949,\n",
       " 'coy': 12693,\n",
       " 'sllu': 47618,\n",
       " 'son': 48230,\n",
       " 'shaina': 46437,\n",
       " 'pass': 38568,\n",
       " 'obstacles': 36797,\n",
       " 'guyssss': 23443,\n",
       " 'nervou': 35691,\n",
       " 'social': 47989,\n",
       " 'media': 32850,\n",
       " 'fun': 21581,\n",
       " 'health': 24202,\n",
       " 'praying': 40558,\n",
       " 'isha': 27856,\n",
       " 'solemn': 48109,\n",
       " 'cat': 9664,\n",
       " 'canceled': 9301,\n",
       " 'write': 57863,\n",
       " 'idk': 25994,\n",
       " 'working': 57633,\n",
       " 'matter': 32605,\n",
       " 'mentality': 33136,\n",
       " 'difficulty': 15198,\n",
       " 'suffer': 50057,\n",
       " 'say': 45348,\n",
       " 'missing': 33893,\n",
       " 'biggest': 7261,\n",
       " 'enemy': 17882,\n",
       " 'writing': 57874,\n",
       " 'detailed': 14817,\n",
       " 'months': 34318,\n",
       " 'worries': 57700,\n",
       " 'cries': 12896,\n",
       " 'troubled': 53561,\n",
       " 'earlier': 17006,\n",
       " 'fish': 20367,\n",
       " 'wave': 56602,\n",
       " 'ocean': 36859,\n",
       " 'rumi': 44790,\n",
       " 'mco3': 32737,\n",
       " 'guys': 23441,\n",
       " 'trial': 53410,\n",
       " 'schedule': 45489,\n",
       " 'august': 5658,\n",
       " 'floating': 20611,\n",
       " 'revisions': 44035,\n",
       " 'shaking': 46448,\n",
       " 'mboh': 32694,\n",
       " 'lah': 30005,\n",
       " 'umami': 54137,\n",
       " 'mami': 32150,\n",
       " 'title': 52587,\n",
       " 'late': 30184,\n",
       " 'phase': 39349,\n",
       " 'exactly': 18779,\n",
       " 'making': 32068,\n",
       " 'ago': 3187,\n",
       " 'menses': 33118,\n",
       " 'pms': 40032,\n",
       " 'bro': 8507,\n",
       " 'meet': 32934,\n",
       " 'big': 7254,\n",
       " 'questions': 41974,\n",
       " 'fuck': 21459,\n",
       " 'minutes': 33737,\n",
       " 'severe': 46329,\n",
       " 'nausea': 35400,\n",
       " 'fastest': 19719,\n",
       " 'strong': 49733,\n",
       " 'stoned': 49468,\n",
       " 'attacks': 5537,\n",
       " 'knows': 29664,\n",
       " 'leave': 30388,\n",
       " 'room': 44558,\n",
       " 'version': 55726,\n",
       " 'toxic': 53047,\n",
       " 'forgetting': 20963,\n",
       " 'gt': 23272,\n",
       " 'anjr': 4266,\n",
       " 'energy': 17896,\n",
       " 'doctor': 16037,\n",
       " 'ultrasound': 54130,\n",
       " 'ray': 42472,\n",
       " 'results': 43883,\n",
       " 'known': 29661,\n",
       " 'ugh': 54046,\n",
       " 'worst': 57736,\n",
       " 'thing': 52009,\n",
       " 'baby': 6041,\n",
       " 'husband': 25607,\n",
       " 'pain': 38174,\n",
       " 'created': 12827,\n",
       " 'sidelines': 47037,\n",
       " 'subside': 49939,\n",
       " 'yh': 58363,\n",
       " 'wishing': 57371,\n",
       " 'bismillah': 7438,\n",
       " 'yaa': 58126,\n",
       " 'tips': 52537,\n",
       " 'dhikr': 14985,\n",
       " 'journey': 28747,\n",
       " 'eh': 17323,\n",
       " 'safe': 44996,\n",
       " 'peaceful': 38788,\n",
       " 'haunted': 24050,\n",
       " 'burst': 8900,\n",
       " 'difference': 15177,\n",
       " 'anjir': 4261,\n",
       " 'disturbs': 15885,\n",
       " 'shit': 46686,\n",
       " 'addicted': 2736,\n",
       " 'playing': 39882,\n",
       " 'cellphones': 9854,\n",
       " 'cellphone': 9853,\n",
       " 'um': 54134,\n",
       " 'pls': 39973,\n",
       " 'house': 25301,\n",
       " 'stage': 49030,\n",
       " 'open': 37299,\n",
       " 'whatsapp': 56975,\n",
       " 'useless': 55248,\n",
       " 'disappear': 15393,\n",
       " 'discussing': 15540,\n",
       " 'exhibitions': 18962,\n",
       " 'parno': 38479,\n",
       " 'hello': 24399,\n",
       " 'buddy': 8689,\n",
       " 'jbjb': 28314,\n",
       " 'mutual': 34977,\n",
       " 'account': 2504,\n",
       " 'rt': 44720,\n",
       " 'bot': 8096,\n",
       " 'tbh': 51218,\n",
       " 'comes': 11396,\n",
       " 'hate': 24027,\n",
       " 'got': 22819,\n",
       " 'hurting': 25594,\n",
       " 'came': 9257,\n",
       " '11fess': 291,\n",
       " 'women': 57526,\n",
       " 'age': 3137,\n",
       " 'mama': 32140,\n",
       " 'average': 5791,\n",
       " 'healthy': 24221,\n",
       " 'ma': 31840,\n",
       " 'beautiful': 6684,\n",
       " 'real': 42551,\n",
       " 'sin': 47203,\n",
       " 'prolonged': 41144,\n",
       " 'divided': 15912,\n",
       " 'fell': 19969,\n",
       " 'istikhara': 27934,\n",
       " 'excitement': 18869,\n",
       " 'fwb': 21719,\n",
       " 'f20': 19319,\n",
       " 'combination': 11356,\n",
       " 'gives': 22420,\n",
       " 'terrible': 51547,\n",
       " 'headache': 24140,\n",
       " 'annoying': 4311,\n",
       " 'gassy': 21973,\n",
       " 'atine': 5480,\n",
       " 'ono': 37233,\n",
       " 'koyo': 29759,\n",
       " 'ngono': 35882,\n",
       " 'ga': 21747,\n",
       " 'sedative': 45899,\n",
       " 'suggestions': 50105,\n",
       " 'thank': 51681,\n",
       " 'dancing': 13574,\n",
       " 'edge': 17179,\n",
       " 'yoo': 58419,\n",
       " 'hurry': 25584,\n",
       " 'right': 44217,\n",
       " 'wkwkwk': 57462,\n",
       " 'messy': 33269,\n",
       " 'monday': 34234,\n",
       " 'tuesday': 53719,\n",
       " 'deadline': 13843,\n",
       " 'thursday': 52317,\n",
       " 'dog': 16091,\n",
       " 'pray': 40553,\n",
       " 'astaghfirullah': 5380,\n",
       " 'mixed': 33980,\n",
       " 'miss': 33880,\n",
       " 'piling': 39593,\n",
       " 'traumatized': 53302,\n",
       " 'child': 10311,\n",
       " 'ugly': 54062,\n",
       " 'mole': 34168,\n",
       " 'grew': 23096,\n",
       " 'defect': 14129,\n",
       " 'mistake': 33921,\n",
       " 'shouldn': 46858,\n",
       " 'fate': 19734,\n",
       " 'leaf': 30342,\n",
       " 'cm': 11044,\n",
       " 'research': 43683,\n",
       " 'written': 57881,\n",
       " 'graduation': 22919,\n",
       " 'plan': 39798,\n",
       " 'internship': 27485,\n",
       " 'ðÿ': 58863,\n",
       " 'relying': 43355,\n",
       " 'answer': 4357,\n",
       " 'disappointment': 15408,\n",
       " 'motorbikes': 34529,\n",
       " 'different': 15180,\n",
       " 'forbids': 20887,\n",
       " 'duhh': 16777,\n",
       " 'speed': 48599,\n",
       " 'door': 16247,\n",
       " 'process': 41018,\n",
       " 'story': 49536,\n",
       " 'screenwriter': 45704,\n",
       " 'vala': 55423,\n",
       " 'lage': 29998,\n",
       " 'na': 35149,\n",
       " 'ar': 4883,\n",
       " 'eto': 18528,\n",
       " 'pera': 39012,\n",
       " 'kan': 29068,\n",
       " 'hell': 24382,\n",
       " 'fucking': 21486,\n",
       " 'yeah': 58250,\n",
       " 'varsity': 55525,\n",
       " 'pressure': 40771,\n",
       " 'porasonar': 40279,\n",
       " 'mayre': 32673,\n",
       " 'bap': 6367,\n",
       " 'baler': 6259,\n",
       " 'question': 41964,\n",
       " 'kore': 29737,\n",
       " 'rakhce': 42267,\n",
       " 'vai': 55416,\n",
       " 'kharap': 29352,\n",
       " 'hoice': 24931,\n",
       " 'chintay': 10374,\n",
       " 'matha': 32575,\n",
       " 'betha': 7120,\n",
       " 'kortece': 29745,\n",
       " 'al': 3442,\n",
       " 'fitr': 20392,\n",
       " 'cover': 12657,\n",
       " 'hari': 23938,\n",
       " 'raya': 42473,\n",
       " 'meaning': 32778,\n",
       " 'ramadan': 42279,\n",
       " 'kind': 29461,\n",
       " 'tremor': 53383,\n",
       " 'hopeful': 25127,\n",
       " 'extrovert': 19254,\n",
       " 'hard': 23902,\n",
       " 'malice': 32114,\n",
       " 'kabeh': 29005,\n",
       " 'naturally': 35387,\n",
       " 'moving': 34598,\n",
       " 'quitting': 42044,\n",
       " 'despair': 14741,\n",
       " 'morethanfriends': 34396,\n",
       " 'won': 57534,\n",
       " 'overly': 37882,\n",
       " 'lowered': 31571,\n",
       " 'amidst': 3924,\n",
       " 'possibilities': 40360,\n",
       " 'undo': 54475,\n",
       " 'ready': 42541,\n",
       " '22': 835,\n",
       " '00': 0,\n",
       " 'mixtape': 33985,\n",
       " 'constantly': 12045,\n",
       " 'skip': 47426,\n",
       " 'necessarily': 35517,\n",
       " 'whyyyyy': 57153,\n",
       " 'pdhl': 38772,\n",
       " 'encouraged': 17805,\n",
       " 'medicine': 32884,\n",
       " 'compromise': 11670,\n",
       " 'content': 12134,\n",
       " 'upset': 55126,\n",
       " 'riding': 44199,\n",
       " 'gondola': 22701,\n",
       " 'ride': 44179,\n",
       " 'fake': 19495,\n",
       " 'worship': 57728,\n",
       " 'overthinking': 37970,\n",
       " 'sucks': 50024,\n",
       " 'enter': 18057,\n",
       " 'mid': 33461,\n",
       " '2016': 760,\n",
       " 'lack': 29958,\n",
       " 'motivation': 34514,\n",
       " 'talk': 50992,\n",
       " 'help': 24419,\n",
       " 'appeared': 4737,\n",
       " 'showing': 46887,\n",
       " 'senders': 46082,\n",
       " 'asking': 5209,\n",
       " 'explain': 19102,\n",
       " 'tags': 50919,\n",
       " 'literally': 31033,\n",
       " 'brutal': 8608,\n",
       " 'gtu': 23282,\n",
       " 'taxi': 51190,\n",
       " 'soft': 48059,\n",
       " 'file': 20199,\n",
       " 'proposal': 41231,\n",
       " 'mistakes': 33926,\n",
       " 'distributed': 15867,\n",
       " 'ptn': 41487,\n",
       " 'fasting': 19721,\n",
       " 'utbk': 55289,\n",
       " 'use': 55237,\n",
       " 'twitter': 53896,\n",
       " 'information': 26946,\n",
       " 'register': 43109,\n",
       " 'consider': 11996,\n",
       " 'manager': 32173,\n",
       " 'year': 58256,\n",
       " 'older': 37084,\n",
       " 'interested': 27428,\n",
       " 'motherly': 34496,\n",
       " 'likeðÿ': 30850,\n",
       " 'incoherently': 26627,\n",
       " 'authors': 5718,\n",
       " 'wanted': 56452,\n",
       " 'post': 40374,\n",
       " 'chat': 10130,\n",
       " 'rereading': 43661,\n",
       " 'cringe': 12910,\n",
       " 'readers': 42530,\n",
       " 'wb': 56646,\n",
       " 'confident': 11845,\n",
       " 'hhhhh': 24622,\n",
       " 'heartbroken': 24252,\n",
       " 'silence': 47128,\n",
       " 'throwing': 52275,\n",
       " 'trying': 53648,\n",
       " 'betrayed': 7134,\n",
       " 'restlessðÿ': 43853,\n",
       " 'template': 51408,\n",
       " 'oops': 37284,\n",
       " 'relax': 43270,\n",
       " 'filled': 20207,\n",
       " 'mentally': 33138,\n",
       " ...}"
      ]
     },
     "execution_count": 54,
     "metadata": {},
     "output_type": "execute_result"
    }
   ],
   "source": [
    "vectorizer.vocabulary_"
   ]
  },
  {
   "cell_type": "code",
   "execution_count": 61,
   "id": "98c4c264-0fcc-4a66-ba9c-388a6694b97d",
   "metadata": {},
   "outputs": [],
   "source": [
    "# df2_cleaned_statement_vectorized.toarray()"
   ]
  },
  {
   "cell_type": "markdown",
   "id": "9caacf02-0b29-41b6-8a8d-c1e48293b4fc",
   "metadata": {},
   "source": [
    "#### Need to store the vectorized data to use for modeling"
   ]
  },
  {
   "cell_type": "code",
   "execution_count": 57,
   "id": "dd83d38b-3f68-49f4-a8a8-b611027fa374",
   "metadata": {},
   "outputs": [],
   "source": [
    "# df2_cleaned['statement_vectorized'] = [row for row in df2_cleaned_statement_vectorized.toarray()]"
   ]
  },
  {
   "cell_type": "markdown",
   "id": "0b9f796e-70b3-48c7-92c4-0f8bff3c5eae",
   "metadata": {},
   "source": [
    "#### I cannot get the sparse matrix to save to an array or convert to a DataFrame because it is too big. I am going to try to tie everything in a pipeline."
   ]
  },
  {
   "cell_type": "code",
   "execution_count": 62,
   "id": "bd99753d-f97f-43df-b00b-9fc29f2ad07d",
   "metadata": {},
   "outputs": [
    {
     "data": {
      "text/plain": [
       "(52681, 2)"
      ]
     },
     "execution_count": 62,
     "metadata": {},
     "output_type": "execute_result"
    }
   ],
   "source": [
    "df2_cleaned.shape"
   ]
  },
  {
   "cell_type": "code",
   "execution_count": 65,
   "id": "a2170f1c-bc9d-4b93-a32d-f42bcc6da9e9",
   "metadata": {},
   "outputs": [
    {
     "data": {
      "text/plain": [
       "status\n",
       "Normal                  16343\n",
       "Depression              15404\n",
       "Suicidal                10652\n",
       "Anxiety                  3841\n",
       "Bipolar                  2777\n",
       "Stress                   2587\n",
       "Personality disorder     1077\n",
       "Name: count, dtype: int64"
      ]
     },
     "execution_count": 65,
     "metadata": {},
     "output_type": "execute_result"
    }
   ],
   "source": [
    "df2_cleaned['status'].value_counts()"
   ]
  },
  {
   "cell_type": "code",
   "execution_count": null,
   "id": "197d5f97-1ef9-454a-8295-c693ec1c3b19",
   "metadata": {},
   "outputs": [],
   "source": []
  },
  {
   "cell_type": "markdown",
   "id": "83160dec-f610-4317-a2c4-37cb8c520494",
   "metadata": {},
   "source": [
    " #### Setting 'Normal' to have a value of 1 and all other status as a value of 0 to use as the positive/ negative target variable/"
   ]
  },
  {
   "cell_type": "code",
   "execution_count": 112,
   "id": "469ba94f-7790-45e0-b862-8d8e496f4323",
   "metadata": {},
   "outputs": [],
   "source": [
    "y = df2_cleaned['status'].map({'Normal':1}).fillna(0).astype(int)"
   ]
  },
  {
   "cell_type": "code",
   "execution_count": 68,
   "id": "ee9ce83b-f498-476e-a4c5-82ab9f6c9aba",
   "metadata": {},
   "outputs": [
    {
     "data": {
      "text/plain": [
       "status\n",
       "0    36338\n",
       "1    16343\n",
       "Name: count, dtype: int64"
      ]
     },
     "execution_count": 68,
     "metadata": {},
     "output_type": "execute_result"
    }
   ],
   "source": [
    "df2_cleaned['status'].value_counts()"
   ]
  },
  {
   "cell_type": "code",
   "execution_count": 69,
   "id": "8db97272-8e7b-4e7a-b5db-4273ce705af6",
   "metadata": {},
   "outputs": [
    {
     "data": {
      "text/plain": [
       "dtype('int64')"
      ]
     },
     "execution_count": 69,
     "metadata": {},
     "output_type": "execute_result"
    }
   ],
   "source": [
    "df2_cleaned['status'].dtypes"
   ]
  },
  {
   "cell_type": "code",
   "execution_count": 98,
   "id": "270d326a-e9b1-458c-9c98-ea0a64efaa9a",
   "metadata": {},
   "outputs": [
    {
     "data": {
      "text/plain": [
       "(52681, 2)"
      ]
     },
     "execution_count": 98,
     "metadata": {},
     "output_type": "execute_result"
    }
   ],
   "source": [
    "df2_cleaned.shape"
   ]
  },
  {
   "cell_type": "markdown",
   "id": "79a88f9c-7bd4-438e-aaab-797ecff80909",
   "metadata": {},
   "source": [
    "#### Setting X and y variables"
   ]
  },
  {
   "cell_type": "code",
   "execution_count": 111,
   "id": "eba62fbf-864e-45f3-bfee-542ca8a66622",
   "metadata": {},
   "outputs": [],
   "source": [
    "X = df2_cleaned.drop(columns='status').astype(str)\n",
    "\n"
   ]
  },
  {
   "cell_type": "code",
   "execution_count": 118,
   "id": "4e5bbe05-5ffb-48f8-9f22-053151a31f85",
   "metadata": {},
   "outputs": [
    {
     "data": {
      "text/plain": [
       "(52681,)"
      ]
     },
     "execution_count": 118,
     "metadata": {},
     "output_type": "execute_result"
    }
   ],
   "source": [
    "y.shape"
   ]
  },
  {
   "cell_type": "code",
   "execution_count": 119,
   "id": "6b9ec76c-979d-414d-b9c9-741c11d22eee",
   "metadata": {},
   "outputs": [
    {
     "data": {
      "text/plain": [
       "0    0\n",
       "1    0\n",
       "2    0\n",
       "3    0\n",
       "4    0\n",
       "Name: status, dtype: int64"
      ]
     },
     "execution_count": 119,
     "metadata": {},
     "output_type": "execute_result"
    }
   ],
   "source": [
    "y.head()"
   ]
  },
  {
   "cell_type": "code",
   "execution_count": 100,
   "id": "0dcfbbe6-c87a-4640-a341-4b9115db3a58",
   "metadata": {},
   "outputs": [
    {
     "data": {
      "text/plain": [
       "(52681, 1)"
      ]
     },
     "execution_count": 100,
     "metadata": {},
     "output_type": "execute_result"
    }
   ],
   "source": [
    "X.shape"
   ]
  },
  {
   "cell_type": "markdown",
   "id": "505761f1-6690-49a7-87b4-6a7dbfc7eff0",
   "metadata": {},
   "source": [
    "#### Splitting into train and test"
   ]
  },
  {
   "cell_type": "code",
   "execution_count": 113,
   "id": "a9ba9f09-348d-4c99-90bf-103bd59f6f54",
   "metadata": {},
   "outputs": [],
   "source": [
    "X_train, X_test, y_train, y_test = train_test_split(X, y, random_state=42, stratify=y)"
   ]
  },
  {
   "cell_type": "markdown",
   "id": "4be97856-31d5-4e6e-8cff-1cc8c1029d2f",
   "metadata": {},
   "source": [
    "#### Baseline"
   ]
  },
  {
   "cell_type": "code",
   "execution_count": 76,
   "id": "0cb32e1a-f98c-486d-86cf-8c880036e4a7",
   "metadata": {},
   "outputs": [
    {
     "data": {
      "text/plain": [
       "status\n",
       "0    0.689773\n",
       "1    0.310227\n",
       "Name: proportion, dtype: float64"
      ]
     },
     "execution_count": 76,
     "metadata": {},
     "output_type": "execute_result"
    }
   ],
   "source": [
    "y_test.value_counts(normalize = True)"
   ]
  },
  {
   "cell_type": "markdown",
   "id": "33d07165-a3d7-4550-a6ad-1889ca9f31b6",
   "metadata": {},
   "source": [
    "#### Building pipeline with vectorizer and logistic regression"
   ]
  },
  {
   "cell_type": "code",
   "execution_count": 96,
   "id": "b9cf64f6-184d-41f8-b033-df94af95511a",
   "metadata": {},
   "outputs": [
    {
     "data": {
      "text/plain": [
       "(39510, 1)"
      ]
     },
     "execution_count": 96,
     "metadata": {},
     "output_type": "execute_result"
    }
   ],
   "source": [
    "X_train.shape"
   ]
  },
  {
   "cell_type": "code",
   "execution_count": null,
   "id": "2bcb4cd5-6142-4b73-89c4-f298700e25e1",
   "metadata": {},
   "outputs": [],
   "source": []
  },
  {
   "cell_type": "code",
   "execution_count": 97,
   "id": "2fcc0c42-f58f-40f9-9048-41971b0b197e",
   "metadata": {},
   "outputs": [
    {
     "data": {
      "text/plain": [
       "(39510,)"
      ]
     },
     "execution_count": 97,
     "metadata": {},
     "output_type": "execute_result"
    }
   ],
   "source": [
    "y_train.shape"
   ]
  },
  {
   "cell_type": "code",
   "execution_count": 114,
   "id": "6c6aa774-0cfc-4779-aa2f-f47dc7d30249",
   "metadata": {},
   "outputs": [],
   "source": [
    "pipeline_logr = Pipeline([\n",
    "    ('vector', CountVectorizer(stop_words='english')),\n",
    "    ('logr', LogisticRegression(random_state=42))\n",
    "])"
   ]
  },
  {
   "cell_type": "code",
   "execution_count": 106,
   "id": "bf77e12b-6729-48e6-8196-f98e0eb7820d",
   "metadata": {
    "scrolled": true
   },
   "outputs": [],
   "source": [
    "#pipeline_logr.fit(X_train, y_train)"
   ]
  },
  {
   "cell_type": "code",
   "execution_count": 115,
   "id": "d88e1ca4-2eb5-4912-babf-bd9532cd13c5",
   "metadata": {},
   "outputs": [],
   "source": [
    "pipeline_logr_params = {'logr__penalty': ['l1', 'l2'],\n",
    "                        'logr__C': [1.0, 0.5, 0.1]}"
   ]
  },
  {
   "cell_type": "code",
   "execution_count": 116,
   "id": "a1a0275e-6d4a-4ba5-b8a9-9ad7741ee275",
   "metadata": {},
   "outputs": [],
   "source": [
    "gs_logr = GridSearchCV(pipeline_logr, pipeline_logr_params, cv=5, verbose=1, n_jobs=-1)"
   ]
  },
  {
   "cell_type": "code",
   "execution_count": 117,
   "id": "c42557d8-acc7-4d24-b1fa-3ba83d9c53c7",
   "metadata": {
    "scrolled": true
   },
   "outputs": [
    {
     "name": "stdout",
     "output_type": "stream",
     "text": [
      "Fitting 5 folds for each of 6 candidates, totalling 30 fits\n"
     ]
    },
    {
     "ename": "ValueError",
     "evalue": "\nAll the 30 fits failed.\nIt is very likely that your model is misconfigured.\nYou can try to debug the error by setting error_score='raise'.\n\nBelow are more details about the failures:\n--------------------------------------------------------------------------------\n15 fits failed with the following error:\nTraceback (most recent call last):\n  File \"C:\\Users\\Beau_\\virtual\\dsb_602\\Lib\\site-packages\\sklearn\\model_selection\\_validation.py\", line 859, in _fit_and_score\n    estimator.fit(X_train, y_train, **fit_params)\n  File \"C:\\Users\\Beau_\\virtual\\dsb_602\\Lib\\site-packages\\sklearn\\base.py\", line 1363, in wrapper\n    return fit_method(estimator, *args, **kwargs)\n           ^^^^^^^^^^^^^^^^^^^^^^^^^^^^^^^^^^^^^^\n  File \"C:\\Users\\Beau_\\virtual\\dsb_602\\Lib\\site-packages\\sklearn\\pipeline.py\", line 661, in fit\n    self._final_estimator.fit(Xt, y, **last_step_params[\"fit\"])\n  File \"C:\\Users\\Beau_\\virtual\\dsb_602\\Lib\\site-packages\\sklearn\\base.py\", line 1363, in wrapper\n    return fit_method(estimator, *args, **kwargs)\n           ^^^^^^^^^^^^^^^^^^^^^^^^^^^^^^^^^^^^^^\n  File \"C:\\Users\\Beau_\\virtual\\dsb_602\\Lib\\site-packages\\sklearn\\linear_model\\_logistic.py\", line 1210, in fit\n    solver = _check_solver(self.solver, self.penalty, self.dual)\n             ^^^^^^^^^^^^^^^^^^^^^^^^^^^^^^^^^^^^^^^^^^^^^^^^^^^\n  File \"C:\\Users\\Beau_\\virtual\\dsb_602\\Lib\\site-packages\\sklearn\\linear_model\\_logistic.py\", line 63, in _check_solver\n    raise ValueError(\nValueError: Solver lbfgs supports only 'l2' or None penalties, got l1 penalty.\n\n--------------------------------------------------------------------------------\n15 fits failed with the following error:\nTraceback (most recent call last):\n  File \"C:\\Users\\Beau_\\virtual\\dsb_602\\Lib\\site-packages\\sklearn\\model_selection\\_validation.py\", line 859, in _fit_and_score\n    estimator.fit(X_train, y_train, **fit_params)\n  File \"C:\\Users\\Beau_\\virtual\\dsb_602\\Lib\\site-packages\\sklearn\\base.py\", line 1363, in wrapper\n    return fit_method(estimator, *args, **kwargs)\n           ^^^^^^^^^^^^^^^^^^^^^^^^^^^^^^^^^^^^^^\n  File \"C:\\Users\\Beau_\\virtual\\dsb_602\\Lib\\site-packages\\sklearn\\pipeline.py\", line 661, in fit\n    self._final_estimator.fit(Xt, y, **last_step_params[\"fit\"])\n  File \"C:\\Users\\Beau_\\virtual\\dsb_602\\Lib\\site-packages\\sklearn\\base.py\", line 1363, in wrapper\n    return fit_method(estimator, *args, **kwargs)\n           ^^^^^^^^^^^^^^^^^^^^^^^^^^^^^^^^^^^^^^\n  File \"C:\\Users\\Beau_\\virtual\\dsb_602\\Lib\\site-packages\\sklearn\\linear_model\\_logistic.py\", line 1239, in fit\n    X, y = validate_data(\n           ^^^^^^^^^^^^^^\n  File \"C:\\Users\\Beau_\\virtual\\dsb_602\\Lib\\site-packages\\sklearn\\utils\\validation.py\", line 2971, in validate_data\n    X, y = check_X_y(X, y, **check_params)\n           ^^^^^^^^^^^^^^^^^^^^^^^^^^^^^^^\n  File \"C:\\Users\\Beau_\\virtual\\dsb_602\\Lib\\site-packages\\sklearn\\utils\\validation.py\", line 1387, in check_X_y\n    check_consistent_length(X, y)\n  File \"C:\\Users\\Beau_\\virtual\\dsb_602\\Lib\\site-packages\\sklearn\\utils\\validation.py\", line 473, in check_consistent_length\n    raise ValueError(\nValueError: Found input variables with inconsistent numbers of samples: [1, 31608]\n",
     "output_type": "error",
     "traceback": [
      "\u001b[31m---------------------------------------------------------------------------\u001b[39m",
      "\u001b[31mValueError\u001b[39m                                Traceback (most recent call last)",
      "\u001b[36mCell\u001b[39m\u001b[36m \u001b[39m\u001b[32mIn[117]\u001b[39m\u001b[32m, line 1\u001b[39m\n\u001b[32m----> \u001b[39m\u001b[32m1\u001b[39m \u001b[43mgs_logr\u001b[49m\u001b[43m.\u001b[49m\u001b[43mfit\u001b[49m\u001b[43m(\u001b[49m\u001b[43mX_train\u001b[49m\u001b[43m,\u001b[49m\u001b[43m \u001b[49m\u001b[43my_train\u001b[49m\u001b[43m)\u001b[49m\n",
      "\u001b[36mFile \u001b[39m\u001b[32m~\\virtual\\dsb_602\\Lib\\site-packages\\sklearn\\base.py:1363\u001b[39m, in \u001b[36m_fit_context.<locals>.decorator.<locals>.wrapper\u001b[39m\u001b[34m(estimator, *args, **kwargs)\u001b[39m\n\u001b[32m   1356\u001b[39m     estimator._validate_params()\n\u001b[32m   1358\u001b[39m \u001b[38;5;28;01mwith\u001b[39;00m config_context(\n\u001b[32m   1359\u001b[39m     skip_parameter_validation=(\n\u001b[32m   1360\u001b[39m         prefer_skip_nested_validation \u001b[38;5;129;01mor\u001b[39;00m global_skip_validation\n\u001b[32m   1361\u001b[39m     )\n\u001b[32m   1362\u001b[39m ):\n\u001b[32m-> \u001b[39m\u001b[32m1363\u001b[39m     \u001b[38;5;28;01mreturn\u001b[39;00m \u001b[43mfit_method\u001b[49m\u001b[43m(\u001b[49m\u001b[43mestimator\u001b[49m\u001b[43m,\u001b[49m\u001b[43m \u001b[49m\u001b[43m*\u001b[49m\u001b[43margs\u001b[49m\u001b[43m,\u001b[49m\u001b[43m \u001b[49m\u001b[43m*\u001b[49m\u001b[43m*\u001b[49m\u001b[43mkwargs\u001b[49m\u001b[43m)\u001b[49m\n",
      "\u001b[36mFile \u001b[39m\u001b[32m~\\virtual\\dsb_602\\Lib\\site-packages\\sklearn\\model_selection\\_search.py:1051\u001b[39m, in \u001b[36mBaseSearchCV.fit\u001b[39m\u001b[34m(self, X, y, **params)\u001b[39m\n\u001b[32m   1045\u001b[39m     results = \u001b[38;5;28mself\u001b[39m._format_results(\n\u001b[32m   1046\u001b[39m         all_candidate_params, n_splits, all_out, all_more_results\n\u001b[32m   1047\u001b[39m     )\n\u001b[32m   1049\u001b[39m     \u001b[38;5;28;01mreturn\u001b[39;00m results\n\u001b[32m-> \u001b[39m\u001b[32m1051\u001b[39m \u001b[38;5;28;43mself\u001b[39;49m\u001b[43m.\u001b[49m\u001b[43m_run_search\u001b[49m\u001b[43m(\u001b[49m\u001b[43mevaluate_candidates\u001b[49m\u001b[43m)\u001b[49m\n\u001b[32m   1053\u001b[39m \u001b[38;5;66;03m# multimetric is determined here because in the case of a callable\u001b[39;00m\n\u001b[32m   1054\u001b[39m \u001b[38;5;66;03m# self.scoring the return type is only known after calling\u001b[39;00m\n\u001b[32m   1055\u001b[39m first_test_score = all_out[\u001b[32m0\u001b[39m][\u001b[33m\"\u001b[39m\u001b[33mtest_scores\u001b[39m\u001b[33m\"\u001b[39m]\n",
      "\u001b[36mFile \u001b[39m\u001b[32m~\\virtual\\dsb_602\\Lib\\site-packages\\sklearn\\model_selection\\_search.py:1605\u001b[39m, in \u001b[36mGridSearchCV._run_search\u001b[39m\u001b[34m(self, evaluate_candidates)\u001b[39m\n\u001b[32m   1603\u001b[39m \u001b[38;5;28;01mdef\u001b[39;00m\u001b[38;5;250m \u001b[39m\u001b[34m_run_search\u001b[39m(\u001b[38;5;28mself\u001b[39m, evaluate_candidates):\n\u001b[32m   1604\u001b[39m \u001b[38;5;250m    \u001b[39m\u001b[33;03m\"\"\"Search all candidates in param_grid\"\"\"\u001b[39;00m\n\u001b[32m-> \u001b[39m\u001b[32m1605\u001b[39m     \u001b[43mevaluate_candidates\u001b[49m\u001b[43m(\u001b[49m\u001b[43mParameterGrid\u001b[49m\u001b[43m(\u001b[49m\u001b[38;5;28;43mself\u001b[39;49m\u001b[43m.\u001b[49m\u001b[43mparam_grid\u001b[49m\u001b[43m)\u001b[49m\u001b[43m)\u001b[49m\n",
      "\u001b[36mFile \u001b[39m\u001b[32m~\\virtual\\dsb_602\\Lib\\site-packages\\sklearn\\model_selection\\_search.py:1028\u001b[39m, in \u001b[36mBaseSearchCV.fit.<locals>.evaluate_candidates\u001b[39m\u001b[34m(candidate_params, cv, more_results)\u001b[39m\n\u001b[32m   1021\u001b[39m \u001b[38;5;28;01melif\u001b[39;00m \u001b[38;5;28mlen\u001b[39m(out) != n_candidates * n_splits:\n\u001b[32m   1022\u001b[39m     \u001b[38;5;28;01mraise\u001b[39;00m \u001b[38;5;167;01mValueError\u001b[39;00m(\n\u001b[32m   1023\u001b[39m         \u001b[33m\"\u001b[39m\u001b[33mcv.split and cv.get_n_splits returned \u001b[39m\u001b[33m\"\u001b[39m\n\u001b[32m   1024\u001b[39m         \u001b[33m\"\u001b[39m\u001b[33minconsistent results. Expected \u001b[39m\u001b[38;5;132;01m{}\u001b[39;00m\u001b[33m \u001b[39m\u001b[33m\"\u001b[39m\n\u001b[32m   1025\u001b[39m         \u001b[33m\"\u001b[39m\u001b[33msplits, got \u001b[39m\u001b[38;5;132;01m{}\u001b[39;00m\u001b[33m\"\u001b[39m.format(n_splits, \u001b[38;5;28mlen\u001b[39m(out) // n_candidates)\n\u001b[32m   1026\u001b[39m     )\n\u001b[32m-> \u001b[39m\u001b[32m1028\u001b[39m \u001b[43m_warn_or_raise_about_fit_failures\u001b[49m\u001b[43m(\u001b[49m\u001b[43mout\u001b[49m\u001b[43m,\u001b[49m\u001b[43m \u001b[49m\u001b[38;5;28;43mself\u001b[39;49m\u001b[43m.\u001b[49m\u001b[43merror_score\u001b[49m\u001b[43m)\u001b[49m\n\u001b[32m   1030\u001b[39m \u001b[38;5;66;03m# For callable self.scoring, the return type is only know after\u001b[39;00m\n\u001b[32m   1031\u001b[39m \u001b[38;5;66;03m# calling. If the return type is a dictionary, the error scores\u001b[39;00m\n\u001b[32m   1032\u001b[39m \u001b[38;5;66;03m# can now be inserted with the correct key. The type checking\u001b[39;00m\n\u001b[32m   1033\u001b[39m \u001b[38;5;66;03m# of out will be done in `_insert_error_scores`.\u001b[39;00m\n\u001b[32m   1034\u001b[39m \u001b[38;5;28;01mif\u001b[39;00m \u001b[38;5;28mcallable\u001b[39m(\u001b[38;5;28mself\u001b[39m.scoring):\n",
      "\u001b[36mFile \u001b[39m\u001b[32m~\\virtual\\dsb_602\\Lib\\site-packages\\sklearn\\model_selection\\_validation.py:505\u001b[39m, in \u001b[36m_warn_or_raise_about_fit_failures\u001b[39m\u001b[34m(results, error_score)\u001b[39m\n\u001b[32m    498\u001b[39m \u001b[38;5;28;01mif\u001b[39;00m num_failed_fits == num_fits:\n\u001b[32m    499\u001b[39m     all_fits_failed_message = (\n\u001b[32m    500\u001b[39m         \u001b[33mf\u001b[39m\u001b[33m\"\u001b[39m\u001b[38;5;130;01m\\n\u001b[39;00m\u001b[33mAll the \u001b[39m\u001b[38;5;132;01m{\u001b[39;00mnum_fits\u001b[38;5;132;01m}\u001b[39;00m\u001b[33m fits failed.\u001b[39m\u001b[38;5;130;01m\\n\u001b[39;00m\u001b[33m\"\u001b[39m\n\u001b[32m    501\u001b[39m         \u001b[33m\"\u001b[39m\u001b[33mIt is very likely that your model is misconfigured.\u001b[39m\u001b[38;5;130;01m\\n\u001b[39;00m\u001b[33m\"\u001b[39m\n\u001b[32m    502\u001b[39m         \u001b[33m\"\u001b[39m\u001b[33mYou can try to debug the error by setting error_score=\u001b[39m\u001b[33m'\u001b[39m\u001b[33mraise\u001b[39m\u001b[33m'\u001b[39m\u001b[33m.\u001b[39m\u001b[38;5;130;01m\\n\u001b[39;00m\u001b[38;5;130;01m\\n\u001b[39;00m\u001b[33m\"\u001b[39m\n\u001b[32m    503\u001b[39m         \u001b[33mf\u001b[39m\u001b[33m\"\u001b[39m\u001b[33mBelow are more details about the failures:\u001b[39m\u001b[38;5;130;01m\\n\u001b[39;00m\u001b[38;5;132;01m{\u001b[39;00mfit_errors_summary\u001b[38;5;132;01m}\u001b[39;00m\u001b[33m\"\u001b[39m\n\u001b[32m    504\u001b[39m     )\n\u001b[32m--> \u001b[39m\u001b[32m505\u001b[39m     \u001b[38;5;28;01mraise\u001b[39;00m \u001b[38;5;167;01mValueError\u001b[39;00m(all_fits_failed_message)\n\u001b[32m    507\u001b[39m \u001b[38;5;28;01melse\u001b[39;00m:\n\u001b[32m    508\u001b[39m     some_fits_failed_message = (\n\u001b[32m    509\u001b[39m         \u001b[33mf\u001b[39m\u001b[33m\"\u001b[39m\u001b[38;5;130;01m\\n\u001b[39;00m\u001b[38;5;132;01m{\u001b[39;00mnum_failed_fits\u001b[38;5;132;01m}\u001b[39;00m\u001b[33m fits failed out of a total of \u001b[39m\u001b[38;5;132;01m{\u001b[39;00mnum_fits\u001b[38;5;132;01m}\u001b[39;00m\u001b[33m.\u001b[39m\u001b[38;5;130;01m\\n\u001b[39;00m\u001b[33m\"\u001b[39m\n\u001b[32m    510\u001b[39m         \u001b[33m\"\u001b[39m\u001b[33mThe score on these train-test partitions for these parameters\u001b[39m\u001b[33m\"\u001b[39m\n\u001b[32m   (...)\u001b[39m\u001b[32m    514\u001b[39m         \u001b[33mf\u001b[39m\u001b[33m\"\u001b[39m\u001b[33mBelow are more details about the failures:\u001b[39m\u001b[38;5;130;01m\\n\u001b[39;00m\u001b[38;5;132;01m{\u001b[39;00mfit_errors_summary\u001b[38;5;132;01m}\u001b[39;00m\u001b[33m\"\u001b[39m\n\u001b[32m    515\u001b[39m     )\n",
      "\u001b[31mValueError\u001b[39m: \nAll the 30 fits failed.\nIt is very likely that your model is misconfigured.\nYou can try to debug the error by setting error_score='raise'.\n\nBelow are more details about the failures:\n--------------------------------------------------------------------------------\n15 fits failed with the following error:\nTraceback (most recent call last):\n  File \"C:\\Users\\Beau_\\virtual\\dsb_602\\Lib\\site-packages\\sklearn\\model_selection\\_validation.py\", line 859, in _fit_and_score\n    estimator.fit(X_train, y_train, **fit_params)\n  File \"C:\\Users\\Beau_\\virtual\\dsb_602\\Lib\\site-packages\\sklearn\\base.py\", line 1363, in wrapper\n    return fit_method(estimator, *args, **kwargs)\n           ^^^^^^^^^^^^^^^^^^^^^^^^^^^^^^^^^^^^^^\n  File \"C:\\Users\\Beau_\\virtual\\dsb_602\\Lib\\site-packages\\sklearn\\pipeline.py\", line 661, in fit\n    self._final_estimator.fit(Xt, y, **last_step_params[\"fit\"])\n  File \"C:\\Users\\Beau_\\virtual\\dsb_602\\Lib\\site-packages\\sklearn\\base.py\", line 1363, in wrapper\n    return fit_method(estimator, *args, **kwargs)\n           ^^^^^^^^^^^^^^^^^^^^^^^^^^^^^^^^^^^^^^\n  File \"C:\\Users\\Beau_\\virtual\\dsb_602\\Lib\\site-packages\\sklearn\\linear_model\\_logistic.py\", line 1210, in fit\n    solver = _check_solver(self.solver, self.penalty, self.dual)\n             ^^^^^^^^^^^^^^^^^^^^^^^^^^^^^^^^^^^^^^^^^^^^^^^^^^^\n  File \"C:\\Users\\Beau_\\virtual\\dsb_602\\Lib\\site-packages\\sklearn\\linear_model\\_logistic.py\", line 63, in _check_solver\n    raise ValueError(\nValueError: Solver lbfgs supports only 'l2' or None penalties, got l1 penalty.\n\n--------------------------------------------------------------------------------\n15 fits failed with the following error:\nTraceback (most recent call last):\n  File \"C:\\Users\\Beau_\\virtual\\dsb_602\\Lib\\site-packages\\sklearn\\model_selection\\_validation.py\", line 859, in _fit_and_score\n    estimator.fit(X_train, y_train, **fit_params)\n  File \"C:\\Users\\Beau_\\virtual\\dsb_602\\Lib\\site-packages\\sklearn\\base.py\", line 1363, in wrapper\n    return fit_method(estimator, *args, **kwargs)\n           ^^^^^^^^^^^^^^^^^^^^^^^^^^^^^^^^^^^^^^\n  File \"C:\\Users\\Beau_\\virtual\\dsb_602\\Lib\\site-packages\\sklearn\\pipeline.py\", line 661, in fit\n    self._final_estimator.fit(Xt, y, **last_step_params[\"fit\"])\n  File \"C:\\Users\\Beau_\\virtual\\dsb_602\\Lib\\site-packages\\sklearn\\base.py\", line 1363, in wrapper\n    return fit_method(estimator, *args, **kwargs)\n           ^^^^^^^^^^^^^^^^^^^^^^^^^^^^^^^^^^^^^^\n  File \"C:\\Users\\Beau_\\virtual\\dsb_602\\Lib\\site-packages\\sklearn\\linear_model\\_logistic.py\", line 1239, in fit\n    X, y = validate_data(\n           ^^^^^^^^^^^^^^\n  File \"C:\\Users\\Beau_\\virtual\\dsb_602\\Lib\\site-packages\\sklearn\\utils\\validation.py\", line 2971, in validate_data\n    X, y = check_X_y(X, y, **check_params)\n           ^^^^^^^^^^^^^^^^^^^^^^^^^^^^^^^\n  File \"C:\\Users\\Beau_\\virtual\\dsb_602\\Lib\\site-packages\\sklearn\\utils\\validation.py\", line 1387, in check_X_y\n    check_consistent_length(X, y)\n  File \"C:\\Users\\Beau_\\virtual\\dsb_602\\Lib\\site-packages\\sklearn\\utils\\validation.py\", line 473, in check_consistent_length\n    raise ValueError(\nValueError: Found input variables with inconsistent numbers of samples: [1, 31608]\n"
     ]
    }
   ],
   "source": [
    "gs_logr.fit(X_train, y_train)"
   ]
  },
  {
   "cell_type": "code",
   "execution_count": null,
   "id": "761e7c09-b1db-4ca9-82b8-d358597d68a5",
   "metadata": {},
   "outputs": [],
   "source": []
  },
  {
   "cell_type": "code",
   "execution_count": null,
   "id": "10c0fd58-ecb4-4e65-9efa-308c50a090b6",
   "metadata": {},
   "outputs": [],
   "source": []
  }
 ],
 "metadata": {
  "kernelspec": {
   "display_name": "Python 3 (ipykernel)",
   "language": "python",
   "name": "python3"
  },
  "language_info": {
   "codemirror_mode": {
    "name": "ipython",
    "version": 3
   },
   "file_extension": ".py",
   "mimetype": "text/x-python",
   "name": "python",
   "nbconvert_exporter": "python",
   "pygments_lexer": "ipython3",
   "version": "3.11.9"
  }
 },
 "nbformat": 4,
 "nbformat_minor": 5
}
